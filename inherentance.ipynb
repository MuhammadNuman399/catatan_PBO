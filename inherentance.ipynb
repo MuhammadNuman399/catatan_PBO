{
 "cells": [
  {
   "cell_type": "markdown",
   "metadata": {},
   "source": [
    "# inherentance"
   ]
  },
  {
   "attachments": {
    "image.png": {
     "image/png": "[encoded data removed]"
    }
   },
   "cell_type": "markdown",
   "metadata": {},
   "source": [
    "Inheritance atau Pewarisan/Penurunan adalah konsep pemrograman dimana sebuah class dapat ‘menurunkan’ property dan method yang dimilikinya kepada class lain. Konsep inheritance digunakan untuk memanfaatkan fitur ‘code reuse’ untuk menghindari duplikasi kode program.\n",
    "\n",
    "Konsep inheritance membuat sebuah struktur atau ‘hierarchy’ class dalam kode program. Class yang akan ‘diturunkan’ bisa disebut sebagai class induk (parent class), super class, atau base class. Sedangkan class yang ‘menerima penurunan’ bisa disebut sebagai class anak (child class), sub class, derived class atauheir class.\n",
    "\n",
    "Tidak semua property dan method dari class induk akan diturunkan. Property dan method dengan hak akses private, tidak akan diturunkan kepada class anak. Hanya property dan method dengan hak akses protected dan public saja yang bisa diakses dari class anak.\n",
    "\n",
    "![image.png](attachment:image.png)"
   ]
  },
  {
   "cell_type": "code",
   "execution_count": 20,
   "metadata": {},
   "outputs": [
    {
     "name": "stdout",
     "output_type": "stream",
     "text": [
      "Name = brian\n"
     ]
    }
   ],
   "source": [
    "class User:\n",
    "    name = \"\"\n",
    "    def __init__(self, name):\n",
    "        self.name = name\n",
    "    def printName(self):\n",
    "        print (\"Name = \" + self.name)\n",
    "brian = User(\"brian\") \n",
    "brian.printName()"
   ]
  },
  {
   "cell_type": "code",
   "execution_count": 3,
   "metadata": {},
   "outputs": [
    {
     "name": "stdout",
     "output_type": "stream",
     "text": [
      "Name = brian\n",
      "Name = Diana\n",
      "Programming Python\n"
     ]
    }
   ],
   "source": [
    "class User:\n",
    "    name = \"\"\n",
    "    def __init__(self, name):\n",
    "        self.name = name\n",
    "    def printName(self):\n",
    "        print (\"Name = \" + self.name)\n",
    "\n",
    "class Programmer(User):\n",
    "    def __init__(self, name):\n",
    "        self.name = name\n",
    "    def doPython(self):\n",
    "        print (\"Programming Python\")\n",
    "brian = User(\"brian\")\n",
    "brian.printName()\n",
    "diana = Programmer(\"Diana\")\n",
    "diana.printName()\n",
    "diana.doPython()"
   ]
  },
  {
   "cell_type": "code",
   "execution_count": null,
   "metadata": {},
   "outputs": [],
   "source": []
  },
  {
   "cell_type": "code",
   "execution_count": 4,
   "metadata": {},
   "outputs": [
    {
     "name": "stdout",
     "output_type": "stream",
     "text": [
      "Terry Fish\n",
      "bone\n",
      "False\n",
      "The fish is swimming\n",
      "The fish can swim backwards\n",
      "Casey Fish\n",
      "The fish is swimming\n",
      "The clownfish is coexisting with sea anemone\n"
     ]
    }
   ],
   "source": [
    "class Fish:\n",
    "    def __init__(self,first_name,last_name=\"Fish\",skeleton=\"bone\",eyelids=False):\n",
    "        self.first_name = first_name\n",
    "        self.last_name = last_name\n",
    "        self.skeleton = skeleton\n",
    "        self.eyelids = eyelids\n",
    "    def swim(self):\n",
    "        print(\"The fish is swimming\")\n",
    "    def swim_backwards(self):\n",
    "        print(\"The fish can swim backwards\")\n",
    "#defauld yaitu semua atribut class induk diwariskan\n",
    "class Trout(Fish):\n",
    "    pass\n",
    "class Clownfish(Fish):\n",
    "    def live_with_anemone(self):\n",
    "        print(\"The clownfish is coexisting with sea anemone\")\n",
    "        \n",
    "#Overide yaitu isi dari method dan properti diganti nilainya\n",
    "class Shark(Fish):\n",
    "    def __init__(self,first_name,last_name=\"Shark\",skeleton=\"cartilage\",eyelids=True):\n",
    "        self.first_name = first_name\n",
    "        self.last_name = last_name\n",
    "        self.skeleton = skeleton\n",
    "        self.eyelids = eyelids\n",
    "    def swim_backwards(self):\n",
    "        print(\"The shark can't swim backwards, but can sink backwards\")\n",
    "#super yaitu menambahkan atribut yang unik pada class anak dan method lainya sama seperti induk\n",
    "class Ikan(Fish):\n",
    "    def __init__(self,water,first_name,last_name,skeleton,eyelids):\n",
    "        self.water = water\n",
    "        fish.__init__(self)\n",
    "        #atau\n",
    "        super().__init__(self)\n",
    "\n",
    "        \n",
    "terry = Trout(\"Terry\")\n",
    "print(terry.first_name+\" \"+terry.last_name)\n",
    "print(terry.skeleton)\n",
    "print(terry.eyelids)\n",
    "terry.swim()\n",
    "terry.swim_backwards()\n",
    "\n",
    "casey = Clownfish(\"Casey\")\n",
    "print(casey.first_name+\" \"+casey.last_name)\n",
    "casey.swim()\n",
    "casey.live_with_anemone()"
   ]
  },
  {
   "cell_type": "code",
   "execution_count": 5,
   "metadata": {},
   "outputs": [
    {
     "name": "stdout",
     "output_type": "stream",
     "text": [
      "Coral lives in a community\n",
      "The anemone is protecting the clownfish\n"
     ]
    }
   ],
   "source": [
    "#multiple inherentance\n",
    "class Coral:\n",
    "    def community(self):\n",
    "        print(\"Coral lives in a community\")\n",
    "        \n",
    "class Anemone:\n",
    "    def protect_clownfish(self):\n",
    "        print(\"The anemone is protecting the clownfish\")\n",
    "        \n",
    "class CoralReef(Coral,Anemone):\n",
    "    pass\n",
    "\n",
    "great_barrier = CoralReef()\n",
    "great_barrier.community()\n",
    "great_barrier.protect_clownfish()"
   ]
  },
  {
   "cell_type": "code",
   "execution_count": 6,
   "metadata": {},
   "outputs": [
    {
     "name": "stdout",
     "output_type": "stream",
     "text": [
      "Nama saya Muhammad Nu'man\n",
      "Saya seorang mahasiswa Universitas Trunojoyo Madura\n",
      "NIM  180441100130 \n",
      "\n",
      "Nama saya jai\n",
      "NIP saya 1987021119991222100123\n",
      "Saya seorang Dosen\n",
      "\n",
      "Nama saya nofal\n",
      "NIP saya 198702111999122210028\n",
      "Saya seorang karyawan\n",
      "\n"
     ]
    }
   ],
   "source": [
    "class Orang:\n",
    "    def __init__(self,nama):\n",
    "        self.nama = nama\n",
    "        print(\"Nama saya\",self.nama)\n",
    "        \n",
    "class Mahasiswa(Orang):\n",
    "    def __init__(self,nim,name):\n",
    "        super().__init__(name)\n",
    "        self.nim = nim\n",
    "        print(\"Saya seorang mahasiswa Universitas Trunojoyo Madura\")\n",
    "        print(\"NIM \", self.nim,\"\\n\")\n",
    "        \n",
    "class Pegawai(Orang):\n",
    "    def __init__(self,nip,name):\n",
    "        super().__init__(name)\n",
    "        self.nip = nip\n",
    "        print(\"NIP saya\",self.nip)\n",
    "\n",
    "class Karyawan(Pegawai):\n",
    "    def __init__(self,nip,name):\n",
    "        super().__init__(nip,name)\n",
    "        print(\"Saya seorang karyawan\\n\")\n",
    "        \n",
    "class Dosen(Pegawai):\n",
    "    def __init__(self,nip,name):\n",
    "        super().__init__(nip,name)\n",
    "        print(\"Saya seorang Dosen\\n\")\n",
    "        \n",
    "saya = Mahasiswa(\"180441100130\",\"Muhammad Nu'man\")\n",
    "ibu = Dosen(\"1987021119991222100123\",\"jai\")\n",
    "bpk = Karyawan(\"198702111999122210028\",\"nofal\")"
   ]
  },
  {
   "cell_type": "code",
   "execution_count": 10,
   "metadata": {},
   "outputs": [
    {
     "name": "stdout",
     "output_type": "stream",
     "text": [
      "Nama: Mule\n",
      "Jenis rambut: Coklat\n",
      "Nama: Mule\n",
      "Berat: 780Kg\n"
     ]
    }
   ],
   "source": [
    "class Kuda:\n",
    "    def __init__(self,nama,rambut=\"\"):\n",
    "        self.nama = nama\n",
    "        self.rambut = rambut\n",
    "    def tampilkan(self):\n",
    "        print(\"Nama:\",self.nama)\n",
    "        print(\"Jenis rambut:\",self.rambut)\n",
    "        \n",
    "class Keledai:\n",
    "    def __init__(self,nama,berat=\"670Kg\"):\n",
    "        self.nama = nama\n",
    "        self.berat = berat\n",
    "    def tampil(self):\n",
    "        print(\"Nama:\",self.nama)\n",
    "        print(\"Berat:\",self.berat)\n",
    "        \n",
    "class Mule(Keledai,Kuda):\n",
    "    def __init__(self,nama,berat=\"600Kg\",rambut=\"\"):\n",
    "        self.nama = nama\n",
    "        self.berat = berat\n",
    "        self.rambut = rambut\n",
    "    \n",
    "anak = Mule(\"Mule\",\"780Kg\",\"Coklat\")\n",
    "anak.tampilkan()\n",
    "anak.tampil()"
   ]
  },
  {
   "cell_type": "code",
   "execution_count": 15,
   "metadata": {},
   "outputs": [
    {
     "name": "stdout",
     "output_type": "stream",
     "text": [
      "Nama: Muhammad nu'man\n",
      "Kode karyawan: 1324132412315\n",
      "Kode cabang: 324523245242\n",
      "\n",
      "Nama: dedy\n",
      "Kode karyawan: 7617151167\n",
      "Kode cabang: 13232425243\n",
      "\n"
     ]
    }
   ],
   "source": [
    "class Orang:\n",
    "    def __init__(self,nama):\n",
    "        self.nama = nama\n",
    "    def cetaknama(self):\n",
    "        print(\"Nama:\",self.nama)\n",
    "\n",
    "class Karyawan(Orang):\n",
    "    def __init__(self,nama,kode):\n",
    "        super().__init__(nama)\n",
    "        self.kode = kode\n",
    "    def cetakkaryawan(self):\n",
    "        super().cetaknama()\n",
    "        print(\"Kode karyawan:\",self.kode)\n",
    "\n",
    "class KaryawanCabang(Karyawan):\n",
    "    def __init__(self,nama,kode,kodecab):\n",
    "        super().__init__(nama,kode)\n",
    "        self.kodecab = kodecab\n",
    "    def cetakkarcab(self):\n",
    "        super().cetakkaryawan()\n",
    "        print(\"Kode cabang:\",self.kodecab+\"\\n\")\n",
    "        \n",
    "saya = KaryawanCabang(\"Muhammad nu'man\",\"1324132412315\",\"324523245242\")\n",
    "saya.cetakkarcab()\n",
    "dia = KaryawanCabang(\"dedy\",\"7617151167\",\"13232425243\")\n",
    "dia.cetakkarcab()"
   ]
  },
  {
   "cell_type": "code",
   "execution_count": 18,
   "metadata": {},
   "outputs": [
    {
     "name": "stdout",
     "output_type": "stream",
     "text": [
      "Nama: Muhammad nu'man\n",
      "NIP: 180441100130\n",
      "Nama Mata kuliah: PBO\n",
      "Kode Mata kuliah: SI12\n",
      "Nilai: A\n"
     ]
    }
   ],
   "source": [
    "class Mahasiswa:\n",
    "    def __init__(self,nama,npm):\n",
    "        self.nama = nama\n",
    "        self.nip = npm\n",
    "    def namanip(self):\n",
    "        print(\"Nama:\",self.nama)\n",
    "        print(\"NIP:\",self.nip)\n",
    "class Matkul:\n",
    "    def cetakmatkul(self,kode,mk):        \n",
    "        self.kodemk = kode\n",
    "        self.matkul = mk\n",
    "        print(\"Nama Mata kuliah:\",self.matkul)\n",
    "        print(\"Kode Mata kuliah:\",self.kodemk)\n",
    "class AmbilMatkul(Mahasiswa,Matkul):\n",
    "    def __init__(self,nama,npm,kode,mk,nilai):\n",
    "        self.nama = nama\n",
    "        self.nim = npm\n",
    "        self.kdmk = kode\n",
    "        self.mk = mk\n",
    "        self.nilai = nilai\n",
    "    def cetak(self):\n",
    "        Mahasiswa.__init__(self,self.nama,self.nim)\n",
    "        Mahasiswa.namanip(self)\n",
    "        super().cetakmatkul(self.kdmk,self.mk)\n",
    "        print(\"Nilai:\",self.nilai)\n",
    "        \n",
    "saya = AmbilMatkul(\"Muhammad nu'man\",\"180441100130\",\"SI12\",\"PBO\",\"A\")\n",
    "saya.cetak()"
   ]
  },
  {
   "cell_type": "code",
   "execution_count": null,
   "metadata": {},
   "outputs": [],
   "source": []
  }
 ],
 "metadata": {
  "kernelspec": {
   "display_name": "Python 3",
   "language": "python",
   "name": "python3"
  },
  "language_info": {
   "codemirror_mode": {
    "name": "ipython",
    "version": 3
   },
   "file_extension": ".py",
   "mimetype": "text/x-python",
   "name": "python",
   "nbconvert_exporter": "python",
   "pygments_lexer": "ipython3",
   "version": "3.7.1"
  }
 },
 "nbformat": 4,
 "nbformat_minor": 2
}
