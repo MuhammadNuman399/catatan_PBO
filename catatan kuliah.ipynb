{
 "cells": [
  {
   "cell_type": "markdown",
   "metadata": {},
   "source": [
    "# class vs objek"
   ]
  },
  {
   "cell_type": "markdown",
   "metadata": {},
   "source": [
    "ini materi class dan objek\n",
    "\n",
    "1.Objek.\n",
    "    Yang dimaksud dengan objek pada java adalah sekumpulan software yang terdiri dari variable dan method-method yang terkait. Objek juga merupakan benda nyata yang di buat berdasarkan rancangan yang di definisikan di dalam class\n",
    "\n",
    "Object adalah instance dari class. Jika class secara umum mepresentasikan (template) sebuah object, sebuah instance adalah representasi nyata dari class itu sendiri. Contoh : Dari class Fruit kita dapat membuat object Mangga, Pisang, Apel, dan lain-lain.\n",
    "\n",
    "2.Class\n",
    "    Class adalah prototype, atau blueprint, atau rancangan yang mendefinisikan variable dan method-methode pada seluruh objek tertentu. Class berfungsi untuk menampung isi dari program yang akan di jalankan, di dalamnya berisi atribut / type data dan method untuk menjalankan suatu program.\n",
    "\n",
    "Class merupakan suatu blueprint atau cetakan untuk menciptakan suatu instant dari  object. class juga merupakan grup suatu object dengan kemiripan attributes/properties, behaviour dan relasi ke object lain. Contoh : Class Person, Vehicle, Tree, Fruit dan lain-lain.\n",
    "\n",
    "3.Method\n",
    "    Method adalah kumpulan program yang mempunyai nama. Method merupakan sarana bagi programmer untuk memecah program menjadi bagian-bagian yang kecil agar jadi lebih kompleks sehingga dapat di gunakan berulang-ulang.\n",
    "\n",
    "Method merupakan suatu operasi berupa fungsi-fungsi yang dapat dikerjakan oleh suatu object. Method didefinisikan pada class akan tetapi dipanggil melalui object. Contoh, pada object pear : terdapat method ambilRasa , kupasKulit dan lainlain\n",
    "\n",
    "\n",
    "<img src=\"gambar/3.png\">"
   ]
  },
  {
   "cell_type": "code",
   "execution_count": 12,
   "metadata": {},
   "outputs": [
    {
     "name": "stdout",
     "output_type": "stream",
     "text": [
      "5\n",
      "L :  25\n",
      "L permukaan : 150\n",
      "volume : 125\n"
     ]
    }
   ],
   "source": [
    "class Kubus:\n",
    "    def __init__(self,s):\n",
    "        self.sisi = s\n",
    "    def tampilkansisi(self):\n",
    "        print(self.sisi)\n",
    "    def luas(self):\n",
    "        print(\"L : \",self.sisi**2)\n",
    "    def luaspermukaan(self):\n",
    "        print(\"L permukaan :\",self.sisi**2*6)\n",
    "    def volume(self):\n",
    "        print(\"volume :\",self.sisi**3)\n",
    "\n",
    "kubus = Kubus(5)\n",
    "kubus.tampilkansisi()\n",
    "kubus.luas()\n",
    "kubus.luaspermukaan()\n",
    "kubus.volume()"
   ]
  },
  {
   "cell_type": "code",
   "execution_count": null,
   "metadata": {},
   "outputs": [],
   "source": []
  },
  {
   "cell_type": "code",
   "execution_count": 15,
   "metadata": {},
   "outputs": [
    {
     "name": "stdout",
     "output_type": "stream",
     "text": [
      "Muhammad nu'man , Programer , 21000000\n",
      "Umur : 19\n"
     ]
    }
   ],
   "source": [
    "from datetime import datetime\n",
    "sekarang = datetime.now()\n",
    "tahun = sekarang.year\n",
    "\n",
    "class Pegawai:\n",
    "    def __init__(self,a,b,c,d):\n",
    "        self.a = a\n",
    "        self.b = b\n",
    "        self.c = c\n",
    "        self.d = d\n",
    "    def tampilkan(self):\n",
    "        print(self.a,\",\",self.b,\",\",self.c*30)\n",
    "    def tampilkanumur(self):\n",
    "        print(\"Umur :\",tahun - self.d)\n",
    "        \n",
    "h1 = Pegawai(\"Muhammad nu'man\",\"Programer\",700000,2000)\n",
    "h1.tampilkan()\n",
    "h1.tampilkanumur()"
   ]
  },
  {
   "cell_type": "code",
   "execution_count": 14,
   "metadata": {},
   "outputs": [
    {
     "name": "stdout",
     "output_type": "stream",
     "text": [
      "Muhamad nu'man , 180441100130 , 2.0\n",
      "Muhamad nu'man tidak mendapatkan bidikmisi\n",
      "hefni , 180441100123 , 3.7\n",
      "Anda layak Bidikmisi\n"
     ]
    }
   ],
   "source": [
    "class Mahasiswa:\n",
    "    def __init__(self,a,b,c):\n",
    "        self.nama = a\n",
    "        self.nim = b\n",
    "        self.ipk = c\n",
    "    def ceklayak(self):\n",
    "        if(self.ipk<3):\n",
    "            print(self.nama,\"tidak mendapatkan bidikmisi\")\n",
    "        else:\n",
    "            print(\"Anda layak Bidikmisi\")\n",
    "    def datamhs(self):\n",
    "        print(self.nama,\",\",self.nim,\",\",self.ipk)\n",
    "        \n",
    "m1 = Mahasiswa(\"Muhamad nu'man\",\"180441100130\",2.00)\n",
    "m1.datamhs()\n",
    "m1.ceklayak()\n",
    "m2 = Mahasiswa(\"hefni\",\"180441100123\",3.7)\n",
    "m2.datamhs()\n",
    "m2.ceklayak()"
   ]
  },
  {
   "cell_type": "markdown",
   "metadata": {},
   "source": [
    "# inheritance"
   ]
  },
  {
   "cell_type": "markdown",
   "metadata": {},
   "source": [
    "Inheritance atau Pewarisan/Penurunan adalah konsep pemrograman dimana sebuah class dapat ‘menurunkan’ property dan method yang dimilikinya kepada class lain. Konsep inheritance digunakan untuk memanfaatkan fitur ‘code reuse’ untuk menghindari duplikasi kode program.\n",
    "\n",
    "Konsep inheritance membuat sebuah struktur atau ‘hierarchy’ class dalam kode program. Class yang akan ‘diturunkan’ bisa disebut sebagai class induk (parent class), super class, atau base class. Sedangkan class yang ‘menerima penurunan’ bisa disebut sebagai class anak (child class), sub class, derived class atauheir class.\n",
    "\n",
    "Tidak semua property dan method dari class induk akan diturunkan. Property dan method dengan hak akses private, tidak akan diturunkan kepada class anak. Hanya property dan method dengan hak akses protected dan public saja yang bisa diakses dari class anak.\n",
    "\n",
    "<img src=\"gambar/2.png\">"
   ]
  },
  {
   "cell_type": "code",
   "execution_count": 17,
   "metadata": {},
   "outputs": [
    {
     "name": "stdout",
     "output_type": "stream",
     "text": [
      "Name = brian\n"
     ]
    }
   ],
   "source": [
    "class User:\n",
    "    name = \"\"\n",
    "    def __init__(self, name):\n",
    "        self.name = name\n",
    "    def printName(self):\n",
    "        print (\"Name = \" + self.name)\n",
    "brian = User(\"brian\") \n",
    "brian.printName()"
   ]
  },
  {
   "cell_type": "code",
   "execution_count": 18,
   "metadata": {},
   "outputs": [
    {
     "name": "stdout",
     "output_type": "stream",
     "text": [
      "Name = brian\n",
      "Name = Diana\n",
      "Programming Python\n"
     ]
    }
   ],
   "source": [
    "class User:\n",
    "    name = \"\"\n",
    "    def __init__(self, name):\n",
    "        self.name = name\n",
    "    def printName(self):\n",
    "        print (\"Name = \" + self.name)\n",
    "\n",
    "class Programmer(User):\n",
    "    def __init__(self, name):\n",
    "        self.name = name\n",
    "    def doPython(self):\n",
    "        print (\"Programming Python\")\n",
    "brian = User(\"brian\")\n",
    "brian.printName()\n",
    "diana = Programmer(\"Diana\")\n",
    "diana.printName()\n",
    "diana.doPython()"
   ]
  },
  {
   "cell_type": "code",
   "execution_count": 19,
   "metadata": {},
   "outputs": [
    {
     "name": "stdout",
     "output_type": "stream",
     "text": [
      "Terry Fish\n",
      "bone\n",
      "False\n",
      "The fish is swimming\n",
      "The fish can swim backwards\n",
      "Casey Fish\n",
      "The fish is swimming\n",
      "The clownfish is coexisting with sea anemone\n"
     ]
    }
   ],
   "source": [
    "class Fish:\n",
    "    def __init__(self,first_name,last_name=\"Fish\",skeleton=\"bone\",eyelids=False):\n",
    "        self.first_name = first_name\n",
    "        self.last_name = last_name\n",
    "        self.skeleton = skeleton\n",
    "        self.eyelids = eyelids\n",
    "    def swim(self):\n",
    "        print(\"The fish is swimming\")\n",
    "    def swim_backwards(self):\n",
    "        print(\"The fish can swim backwards\")\n",
    "#defauld yaitu semua atribut class induk diwariskan\n",
    "class Trout(Fish):\n",
    "    pass\n",
    "class Clownfish(Fish):\n",
    "    def live_with_anemone(self):\n",
    "        print(\"The clownfish is coexisting with sea anemone\")\n",
    "        \n",
    "#Overide yaitu isi dari method dan properti diganti nilainya\n",
    "class Shark(Fish):\n",
    "    def __init__(self,first_name,last_name=\"Shark\",skeleton=\"cartilage\",eyelids=True):\n",
    "        self.first_name = first_name\n",
    "        self.last_name = last_name\n",
    "        self.skeleton = skeleton\n",
    "        self.eyelids = eyelids\n",
    "    def swim_backwards(self):\n",
    "        print(\"The shark can't swim backwards, but can sink backwards\")\n",
    "#super yaitu menambahkan atribut yang unik pada class anak dan method lainya sama seperti induk\n",
    "class Ikan(Fish):\n",
    "    def __init__(self,water,first_name,last_name,skeleton,eyelids):\n",
    "        self.water = water\n",
    "        fish.__init__(self)\n",
    "        #atau\n",
    "        super().__init__(self)\n",
    "\n",
    "        \n",
    "terry = Trout(\"Terry\")\n",
    "print(terry.first_name+\" \"+terry.last_name)\n",
    "print(terry.skeleton)\n",
    "print(terry.eyelids)\n",
    "terry.swim()\n",
    "terry.swim_backwards()\n",
    "\n",
    "casey = Clownfish(\"Casey\")\n",
    "print(casey.first_name+\" \"+casey.last_name)\n",
    "casey.swim()\n",
    "casey.live_with_anemone()"
   ]
  },
  {
   "cell_type": "code",
   "execution_count": 20,
   "metadata": {},
   "outputs": [
    {
     "name": "stdout",
     "output_type": "stream",
     "text": [
      "Coral lives in a community\n",
      "The anemone is protecting the clownfish\n"
     ]
    }
   ],
   "source": [
    "#multiple inherentance\n",
    "class Coral:\n",
    "    def community(self):\n",
    "        print(\"Coral lives in a community\")\n",
    "        \n",
    "class Anemone:\n",
    "    def protect_clownfish(self):\n",
    "        print(\"The anemone is protecting the clownfish\")\n",
    "        \n",
    "class CoralReef(Coral,Anemone):\n",
    "    pass\n",
    "\n",
    "great_barrier = CoralReef()\n",
    "great_barrier.community()\n",
    "great_barrier.protect_clownfish()"
   ]
  },
  {
   "cell_type": "code",
   "execution_count": 21,
   "metadata": {},
   "outputs": [
    {
     "name": "stdout",
     "output_type": "stream",
     "text": [
      "Nama saya Muhammad Nu'man\n",
      "Saya seorang mahasiswa Universitas Trunojoyo Madura\n",
      "NIM  180441100130 \n",
      "\n",
      "Nama saya jai\n",
      "NIP saya 1987021119991222100123\n",
      "Saya seorang Dosen\n",
      "\n",
      "Nama saya nofal\n",
      "NIP saya 198702111999122210028\n",
      "Saya seorang karyawan\n",
      "\n"
     ]
    }
   ],
   "source": [
    "class Orang:\n",
    "    def __init__(self,nama):\n",
    "        self.nama = nama\n",
    "        print(\"Nama saya\",self.nama)\n",
    "        \n",
    "class Mahasiswa(Orang):\n",
    "    def __init__(self,nim,name):\n",
    "        super().__init__(name)\n",
    "        self.nim = nim\n",
    "        print(\"Saya seorang mahasiswa Universitas Trunojoyo Madura\")\n",
    "        print(\"NIM \", self.nim,\"\\n\")\n",
    "        \n",
    "class Pegawai(Orang):\n",
    "    def __init__(self,nip,name):\n",
    "        super().__init__(name)\n",
    "        self.nip = nip\n",
    "        print(\"NIP saya\",self.nip)\n",
    "\n",
    "class Karyawan(Pegawai):\n",
    "    def __init__(self,nip,name):\n",
    "        super().__init__(nip,name)\n",
    "        print(\"Saya seorang karyawan\\n\")\n",
    "        \n",
    "class Dosen(Pegawai):\n",
    "    def __init__(self,nip,name):\n",
    "        super().__init__(nip,name)\n",
    "        print(\"Saya seorang Dosen\\n\")\n",
    "        \n",
    "saya = Mahasiswa(\"180441100130\",\"Muhammad Nu'man\")\n",
    "ibu = Dosen(\"1987021119991222100123\",\"jai\")\n",
    "bpk = Karyawan(\"198702111999122210028\",\"nofal\")"
   ]
  },
  {
   "cell_type": "code",
   "execution_count": 22,
   "metadata": {},
   "outputs": [
    {
     "name": "stdout",
     "output_type": "stream",
     "text": [
      "Nama: Mule\n",
      "Jenis rambut: Coklat\n",
      "Nama: Mule\n",
      "Berat: 780Kg\n"
     ]
    }
   ],
   "source": [
    "class Kuda:\n",
    "    def __init__(self,nama,rambut=\"\"):\n",
    "        self.nama = nama\n",
    "        self.rambut = rambut\n",
    "    def tampilkan(self):\n",
    "        print(\"Nama:\",self.nama)\n",
    "        print(\"Jenis rambut:\",self.rambut)\n",
    "        \n",
    "class Keledai:\n",
    "    def __init__(self,nama,berat=\"670Kg\"):\n",
    "        self.nama = nama\n",
    "        self.berat = berat\n",
    "    def tampil(self):\n",
    "        print(\"Nama:\",self.nama)\n",
    "        print(\"Berat:\",self.berat)\n",
    "        \n",
    "class Mule(Keledai,Kuda):\n",
    "    def __init__(self,nama,berat=\"600Kg\",rambut=\"\"):\n",
    "        self.nama = nama\n",
    "        self.berat = berat\n",
    "        self.rambut = rambut\n",
    "    \n",
    "anak = Mule(\"Mule\",\"780Kg\",\"Coklat\")\n",
    "anak.tampilkan()\n",
    "anak.tampil()"
   ]
  },
  {
   "cell_type": "code",
   "execution_count": 23,
   "metadata": {},
   "outputs": [
    {
     "name": "stdout",
     "output_type": "stream",
     "text": [
      "Nama: Muhammad nu'man\n",
      "Kode karyawan: 1324132412315\n",
      "Kode cabang: 324523245242\n",
      "\n",
      "Nama: dedy\n",
      "Kode karyawan: 7617151167\n",
      "Kode cabang: 13232425243\n",
      "\n"
     ]
    }
   ],
   "source": [
    "class Orang:\n",
    "    def __init__(self,nama):\n",
    "        self.nama = nama\n",
    "    def cetaknama(self):\n",
    "        print(\"Nama:\",self.nama)\n",
    "\n",
    "class Karyawan(Orang):\n",
    "    def __init__(self,nama,kode):\n",
    "        super().__init__(nama)\n",
    "        self.kode = kode\n",
    "    def cetakkaryawan(self):\n",
    "        super().cetaknama()\n",
    "        print(\"Kode karyawan:\",self.kode)\n",
    "\n",
    "class KaryawanCabang(Karyawan):\n",
    "    def __init__(self,nama,kode,kodecab):\n",
    "        super().__init__(nama,kode)\n",
    "        self.kodecab = kodecab\n",
    "    def cetakkarcab(self):\n",
    "        super().cetakkaryawan()\n",
    "        print(\"Kode cabang:\",self.kodecab+\"\\n\")\n",
    "        \n",
    "saya = KaryawanCabang(\"Muhammad nu'man\",\"1324132412315\",\"324523245242\")\n",
    "saya.cetakkarcab()\n",
    "dia = KaryawanCabang(\"dedy\",\"7617151167\",\"13232425243\")\n",
    "dia.cetakkarcab()"
   ]
  },
  {
   "cell_type": "code",
   "execution_count": 24,
   "metadata": {},
   "outputs": [
    {
     "name": "stdout",
     "output_type": "stream",
     "text": [
      "Nama: Muhammad nu'man\n",
      "NIP: 180441100130\n",
      "Nama Mata kuliah: PBO\n",
      "Kode Mata kuliah: SI12\n",
      "Nilai: A\n"
     ]
    }
   ],
   "source": [
    "class Mahasiswa:\n",
    "    def __init__(self,nama,npm):\n",
    "        self.nama = nama\n",
    "        self.nip = npm\n",
    "    def namanip(self):\n",
    "        print(\"Nama:\",self.nama)\n",
    "        print(\"NIP:\",self.nip)\n",
    "class Matkul:\n",
    "    def cetakmatkul(self,kode,mk):        \n",
    "        self.kodemk = kode\n",
    "        self.matkul = mk\n",
    "        print(\"Nama Mata kuliah:\",self.matkul)\n",
    "        print(\"Kode Mata kuliah:\",self.kodemk)\n",
    "class AmbilMatkul(Mahasiswa,Matkul):\n",
    "    def __init__(self,nama,npm,kode,mk,nilai):\n",
    "        self.nama = nama\n",
    "        self.nim = npm\n",
    "        self.kdmk = kode\n",
    "        self.mk = mk\n",
    "        self.nilai = nilai\n",
    "    def cetak(self):\n",
    "        Mahasiswa.__init__(self,self.nama,self.nim)\n",
    "        Mahasiswa.namanip(self)\n",
    "        super().cetakmatkul(self.kdmk,self.mk)\n",
    "        print(\"Nilai:\",self.nilai)\n",
    "        \n",
    "saya = AmbilMatkul(\"Muhammad nu'man\",\"180441100130\",\"SI12\",\"PBO\",\"A\")\n",
    "saya.cetak()"
   ]
  },
  {
   "cell_type": "markdown",
   "metadata": {},
   "source": [
    "# polymorphis with a function"
   ]
  },
  {
   "cell_type": "markdown",
   "metadata": {},
   "source": [
    "Polymorphism merupakan suatu aksi yang memungkinkan pemogram menyampaikan suatu pesan tertentu keluar dari hierarki obyeknya, dimana suatu obyek tersebut yang berbeda memberikan tanggapan ataupun respon terhadap pesan yang sama sesuai dengan sifat masing-masing obyek. Itu berarti, Polymorphism “mempunyai banyak bentuk” yang juga merupakan salah satu sifat class yang memungkinkan sebuah method mempunyai nama yang sama, namun memiliki aksi yang berbeda.\n",
    "Polymorphism adalah pemikiran bahwa objek dinamis suatu class dasar dapat berperilaku seperti class turunan. Jika objek menunjuk class dasar maka ia perilaku seperti class dasar, dan jika ia menunjuk class turunan ia akan berperilaku seperti class turunan.Para\n",
    "\n",
    "Dalam hal ini obkjek memiliki beberapa bentuk, tergantung ia menunjuk kemana. Dalam hal ini suatu objek atau class dan perubahan perilakunya adalah dari kelas dasar ke kelas turunan, tidak bisa objek kelas turunan menunjuk ke kelas dasar. Polimorfisme dimungkinkan karena adanya mekanisme ikatan dinamis, ikatan ini adalah ikatan yang terjadi ketika program dijalankan (run-time), ikatan yang terjadi pada saat compiling disebut ikatan dinamis. Ikatan dinamis hanya akan terjadi antara suatu objek dinamis dengan metode yang dinamis juga, dalam hal ini metode virtual (maya)\n",
    "\n",
    "Polymorphism berasal dari bahasa Yunani yang berarti banyak bentuk. Dalam PBO, konsep ini memungkinkan digunakannya suatu interface yang sama untuk memerintah objek agar melakukan aksi atau tindakan yang mungkin secara prinsip sama namun secara proses berbeda.\n",
    "Keuntungan Pemograman dengan menggunakan Polymorphism adalah :\n",
    "• Kita dapat menggunakan kelas-kelas yang kita buat (sebagai super kelas) dan membuat kelas kelas baru berdasar superkelas tersebut dengan karakteristik yang lebih khusus dari behaviour umum yang dimiliki superkelas.\n",
    "\n",
    "• kita dapat membuat super kelas yang hanya mendefinisikan behaviuor namun tidak memberikan implementasidari metode-metode yang ada.Hal ini berguna jika kita ingin membuat semacam template kelas,kelas semacam ini disebut kelas abstrak karena behaviournya masih abstrak dan belum diimplementasikan.subkelas-subkelas dari kelas semacam ini yang disebut kelas konkret,mengimplementasikan behaviuor abstrak tersebut sesuai dengan kebutuhan masing-masing.\n",
    "\n",
    "• Menghindari duplikasi object,kita dapat menciptakan class baru dari class yang sudah ada,sehingga tidak perlu menuliskan code dari nol ataupun mengulangnya, namun tetap bisa menambahkan attribute dan atau method unik dari class itu sendiri. Dalam konsep yang lebih umum sering kali polymorphism disebut dalam istilah satu interface banyak aksi.\n",
    "\n",
    "<img src=\"gambar/1.png\">"
   ]
  },
  {
   "cell_type": "code",
   "execution_count": 25,
   "metadata": {},
   "outputs": [
    {
     "name": "stdout",
     "output_type": "stream",
     "text": [
      "Kerangka hiu terbuat dari tulang rawan.\n",
      "Kerangka ikan badut terbuat dari tulang.\n"
     ]
    }
   ],
   "source": [
    "class Shark:\n",
    "    def swim(self):\n",
    "        print(\"Hiu sedang berenang.\")\n",
    "    def swim_backwards(self):\n",
    "        print(\"Hiu tidak bisa berenang mundur.\")\n",
    "    def skeleton(self):\n",
    "        print(\"Kerangka hiu terbuat dari tulang rawan.\")\n",
    "class Clownfish():\n",
    "    def swim(self):\n",
    "        print(\"Ikan badut sedang berenang.\")\n",
    "    def swim_backwards(self):\n",
    "        print(\"Clownfish bisa berenang mundur.\")\n",
    "    def skeleton(self):\n",
    "        print(\"Kerangka ikan badut terbuat dari tulang.\")\n",
    "        \n",
    "sammy = Shark()\n",
    "sammy.skeleton()\n",
    "cassy = Clownfish()\n",
    "cassy.skeleton()"
   ]
  },
  {
   "cell_type": "code",
   "execution_count": 26,
   "metadata": {},
   "outputs": [
    {
     "name": "stdout",
     "output_type": "stream",
     "text": [
      "Hiu sedang berenang.\n",
      "Ikan badut sedang berenang.\n"
     ]
    }
   ],
   "source": [
    "def di_pasifik(fish):\n",
    "    fish.swim()\n",
    "    \n",
    "di_pasifik(sammy)\n",
    "di_pasifik(cassy)\n"
   ]
  },
  {
   "cell_type": "code",
   "execution_count": 27,
   "metadata": {},
   "outputs": [
    {
     "name": "stdout",
     "output_type": "stream",
     "text": [
      "Groaaarr\n",
      "Guukk guukk guukk\n"
     ]
    }
   ],
   "source": [
    "class Bear:\n",
    "    def sound(self):\n",
    "        print(\"Groaaarr\")\n",
    "class Dog:\n",
    "    def sound(self):\n",
    "        print(\"Guukk guukk guukk\")\n",
    "        \n",
    "def make_sound(animal):\n",
    "    animal.sound()\n",
    "    \n",
    "beruang = Bear()\n",
    "anjing = Dog()\n",
    "\n",
    "make_sound(beruang)\n",
    "make_sound(anjing)"
   ]
  },
  {
   "cell_type": "code",
   "execution_count": 28,
   "metadata": {},
   "outputs": [
    {
     "name": "stdout",
     "output_type": "stream",
     "text": [
      "Hiu tidak bisa berenang mundur.\n",
      "Clownfish bisa berenang mundur.\n"
     ]
    }
   ],
   "source": [
    "for ikan in (sammy,cassy):\n",
    "    ikan.swim_backwards()"
   ]
  },
  {
   "cell_type": "code",
   "execution_count": 29,
   "metadata": {},
   "outputs": [
    {
     "name": "stdout",
     "output_type": "stream",
     "text": [
      "Dokumen1: Tampilkan konten pdf!\n",
      "Dokumen2: Tampilkan konten pdf!\n",
      "Dokumen3: Tampilkan isi kata!\n"
     ]
    }
   ],
   "source": [
    "class Document:\n",
    "    def __init__(self, name):\n",
    "        self.name = name\n",
    "    def show(self):\n",
    "        raise NotImplementedError(\"Subclass harus menerapkan metode abstrak\")\n",
    "class Pdf(Document):\n",
    "    def show(self):\n",
    "        return 'Tampilkan konten pdf!'\n",
    "class Word(Document):\n",
    "    def show(self):\n",
    "        return 'Tampilkan isi kata!'\n",
    "documents = [Pdf('Dokumen1'),Pdf('Dokumen2'),Word('Dokumen3')]\n",
    "for document in documents:\n",
    "    print (document.name + ': ' + document.show())"
   ]
  },
  {
   "cell_type": "code",
   "execution_count": 30,
   "metadata": {},
   "outputs": [
    {
     "name": "stdout",
     "output_type": "stream",
     "text": [
      "Bananatruck: Mengemudi truk lambat karena sarat muatan.\n",
      "Orangetruck: Mengemudi truk lambat karena sarat muatan.\n",
      "Z3: Mengemudi mobil sport!\n"
     ]
    }
   ],
   "source": [
    "class Car:\n",
    "    def __init__(self, name):\n",
    "        self.name = name\n",
    "    def drive(self):\n",
    "        raise NotImplementedError(\"Subclass harus menerapkan metode abstrak\")\n",
    "    def stop(self):\n",
    "        raise NotImplementedError(\"Subclass harus menerapkan metode abstrak\")\n",
    "class Sportscar(Car):\n",
    "    def drive(self):\n",
    "        return 'Mengemudi mobil sport!'\n",
    "    def stop(self):\n",
    "        return 'Pengereman sportscar!'\n",
    "class Truck(Car):\n",
    "    def drive(self):\n",
    "        return 'Mengemudi truk lambat karena sarat muatan.'\n",
    "    def stop(self):\n",
    "        return 'Pengereman truk!'\n",
    "cars = [Truck('Bananatruck'),Truck('Orangetruck'),Sportscar('Z3')]\n",
    "for car in cars:\n",
    "    print (car.name + ': ' + car.drive())"
   ]
  },
  {
   "cell_type": "markdown",
   "metadata": {},
   "source": [
    "# operator and method"
   ]
  },
  {
   "cell_type": "markdown",
   "metadata": {},
   "source": [
    "didefinisikan dua metode produk,\n",
    "tapi kami hanya bisa menggunakan metode produk kedua,\n",
    "\n",
    "karena python tidak mendukung metode overloading.\n",
    "\n",
    "Kami dapat mendefinisikan banyak metode dengan nama yang sama dan argumen yang berbeda, tetapi kami hanya dapat menggunakan metode yang didefinisikan terbaru.\n",
    "\n",
    "Memanggil metode lain akan menghasilkan kesalahan."
   ]
  },
  {
   "cell_type": "markdown",
   "metadata": {},
   "source": [
    "<img src=\"gambar/11.png\">"
   ]
  },
  {
   "cell_type": "code",
   "execution_count": 10,
   "metadata": {},
   "outputs": [
    {
     "name": "stdout",
     "output_type": "stream",
     "text": [
      "Hello \n",
      "Hello Guido\n"
     ]
    }
   ],
   "source": [
    "class Human:\n",
    "    def sayHello(self, name=None):\n",
    "        if name is not None:\n",
    "            print('Hello ' + name)\n",
    "        else:print('Hello ')\n",
    "# Create instance\n",
    "obj = Human()\n",
    "\n",
    "# Call the method\n",
    "obj.sayHello()\n",
    "\n",
    "# Call the method with a parameter\n",
    "obj.sayHello('Guido')"
   ]
  },
  {
   "cell_type": "code",
   "execution_count": 11,
   "metadata": {},
   "outputs": [
    {
     "name": "stdout",
     "output_type": "stream",
     "text": [
      "Point object is at:(3,1)\n",
      "Point object is at:(1,5)\n"
     ]
    }
   ],
   "source": [
    "class Point:\n",
    "    def __init__(self, x , y):\n",
    "        self.x = x\n",
    "        self.y = y\n",
    "    #def __str__(self):\n",
    "        #return \"({0},{1})\".format(self.x,222222self.y)\n",
    "    def __str__(self):\n",
    "        return \"Point object is at:(\"+str(self.x)+\",\"+str(self.y)+\")\"\n",
    "    def __sub__(self,other):\n",
    "        x = self.x - other.x\n",
    "        y = self.y - other.y\n",
    "        return Point(x,y)\n",
    "    def __add__(self,other):\n",
    "        x = self.x + other.x\n",
    "        y = self.y + other.y\n",
    "        return Point(x,y)\n",
    "    \n",
    "p1 = Point(2,3)\n",
    "p2 = Point(-1,2)\n",
    "print(p1-p2)\n",
    "print(p1+p2)"
   ]
  },
  {
   "cell_type": "code",
   "execution_count": 2,
   "metadata": {},
   "outputs": [
    {
     "name": "stdout",
     "output_type": "stream",
     "text": [
      "2/4\n",
      "hasil tambah pecaha : 6/8\n",
      "hasil kurang pecahan : -2/8\n",
      "hasil bagi pecahan : 2/4\n",
      "hasil kali pecahan : 1/8\n"
     ]
    }
   ],
   "source": [
    "class Fraction:\n",
    "    def __init__(self,top,bottom):\n",
    "        self.atas = top\n",
    "        self.bawah = bottom\n",
    "    \n",
    "    #def show(self):\n",
    "        #print(self.num,\"/\",self.den)\n",
    "        \n",
    "    def __str__(self):\n",
    "        return str(self.atas)+\"/\"+str(self.bawah)\n",
    "\n",
    "\n",
    "    def __add__(self,other):\n",
    "        newatas = self.atas * other.bawah + self.bawah * other.atas\n",
    "        newbawah = self.bawah * other.bawah\n",
    "        return Fraction(newatas,newbawah)\n",
    "    \n",
    "    def __sub__(self,other):\n",
    "        newatas = self.atas * other.bawah- self.bawah * other.atas\n",
    "        newbawah = self.bawah* other.bawah\n",
    "        return Fraction(newatas,newbawah)\n",
    "    \n",
    "    def __truediv__(self,other):\n",
    "        newatas = self.atas* other.bawah\n",
    "        newbawah = self.bawah * other.atas\n",
    "        return Fraction(newatas,newbawah)\n",
    "\n",
    "    def __mul__(self, other):\n",
    "        newatas = self.atas * other.atas\n",
    "        newbawah = self.bawah * other.bawah\n",
    "        return Fraction(newatas,newbawah)\n",
    "    \n",
    "f=Fraction(2,4)\n",
    "#Show(f)\n",
    "print(f)\n",
    "\n",
    "f1 = Fraction(1,4)\n",
    "f2 = Fraction(1,2)\n",
    "print(\"hasil tambah pecaha :\",f1+f2)\n",
    "print(\"hasil kurang pecahan :\",f1-f2)\n",
    "print(\"hasil bagi pecahan :\",f1/f2)\n",
    "print(\"hasil kali pecahan :\",f1*f2)"
   ]
  },
  {
   "cell_type": "markdown",
   "metadata": {},
   "source": [
    "# Encapsulation"
   ]
  },
  {
   "cell_type": "markdown",
   "metadata": {},
   "source": [
    "<img src=\"gambar/12.png\">\n",
    "Maksud dari enkapsulasi adalah membungkus kelas dan menyimpan apa saja yang ada di dalam kelas tersebut, baik metode atau atribut, agar tidak dapat diakses oleh kelas lain."
   ]
  },
  {
   "cell_type": "code",
   "execution_count": 4,
   "metadata": {},
   "outputs": [
    {
     "name": "stdout",
     "output_type": "stream",
     "text": [
      "22\n",
      "23\n",
      "23\n"
     ]
    }
   ],
   "source": [
    "#encapsulation\n",
    "class robot(object):\n",
    "    def __init__(self):\n",
    "        self.__version=22\n",
    "    def getversion(self):\n",
    "        print(self.__version)\n",
    "    def setversion(self,version):\n",
    "        self.__version=version\n",
    "obj=robot()\n",
    "obj.getversion()\n",
    "obj.setversion(23)\n",
    "obj.getversion()\n",
    "#print(obj.__version) salah karena tdk ada pemanggilan classs\n",
    "print(obj._robot__version)"
   ]
  },
  {
   "cell_type": "code",
   "execution_count": 5,
   "metadata": {},
   "outputs": [
    {
     "name": "stdout",
     "output_type": "stream",
     "text": [
      "This is a public method\n",
      "This is a private method\n",
      "This is another private method\n"
     ]
    }
   ],
   "source": [
    "class A(object):\n",
    "    #public method\n",
    "    def myPublicMethod(self):\n",
    "        return \"This is a public method\"\n",
    "    #private method with single underscore\n",
    "    def _myPrivateMethod(self):\n",
    "        return \"This is a private method\"\n",
    "    #private method with double underscore\n",
    "    def __myAnotherPrivateMethod(self):\n",
    "        return \"This is another private method\"\n",
    "#nama objek\n",
    "obj1 = A()\n",
    "#we can access the public mehod which is cool\n",
    "print(obj1.myPublicMethod())\n",
    "#Note that we can also access the private method from outside\n",
    "print(obj1._myPrivateMethod())\n",
    "print(obj1._A__myAnotherPrivateMethod())"
   ]
  },
  {
   "cell_type": "code",
   "execution_count": 6,
   "metadata": {},
   "outputs": [
    {
     "name": "stdout",
     "output_type": "stream",
     "text": [
      "driving. maxspeed : 200\n",
      "driving. maxspeed : 10\n"
     ]
    }
   ],
   "source": [
    "class Car:\n",
    " \n",
    "    __maxspeed = 0\n",
    "    __name = \"\"\n",
    " \n",
    "    def __init__(self):\n",
    "        self.__maxspeed = 200\n",
    "        self.__name = \"Supercar\"\n",
    " \n",
    "    def drive(self):\n",
    "        print (\"driving. maxspeed : \" + str(self.__maxspeed))\n",
    " \n",
    "redcar = Car()\n",
    "redcar.drive()\n",
    "redcar.__maxspeed = 10  # will not change variable because its private\n",
    "redcar._Car__maxspeed=10 #cara mengubah variabel private\n",
    "redcar.drive()"
   ]
  },
  {
   "cell_type": "code",
   "execution_count": 7,
   "metadata": {},
   "outputs": [
    {
     "name": "stdout",
     "output_type": "stream",
     "text": [
      "updating software\n",
      "driving\n"
     ]
    }
   ],
   "source": [
    "class Car:\n",
    " \n",
    "    def __init__(self):\n",
    "        self.__updateSoftware()\n",
    "\n",
    "    def drive(self):\n",
    "        print ('driving')\n",
    "\n",
    "    def __updateSoftware(self):\n",
    "        print ('updating software')\n",
    " \n",
    "redcar = Car()\n",
    "redcar.drive()\n",
    "#redcar.__updateSoftware()  not accesible from object."
   ]
  },
  {
   "cell_type": "markdown",
   "metadata": {},
   "source": [
    "# Latihan operator and method dan Encapsulation"
   ]
  },
  {
   "cell_type": "code",
   "execution_count": 8,
   "metadata": {},
   "outputs": [
    {
     "name": "stdout",
     "output_type": "stream",
     "text": [
      "Nama: Segitiga Sama Sisi\n",
      "Panjang: 5\n",
      "Sisi: 75\n",
      "Nama: Persegi Panjang\n",
      "Panjang: 10\n",
      "Lebar: 15\n",
      "Nama: Lingkaran besar\n",
      "Jari-jari: 21\n"
     ]
    }
   ],
   "source": [
    "class Shape(object):\n",
    "    __nama = 0\n",
    "    def getNama(self):\n",
    "        print (\"Nama:\",self.__nama)\n",
    "    def setNama(self,nama):\n",
    "        self.__nama = nama\n",
    "    \n",
    "class Rectangle(Shape):\n",
    "    __panjang = 0\n",
    "    __lebar = 0\n",
    "    def getPanjangdanLebar(self):\n",
    "        print (\"Panjang:\",self.__panjang)\n",
    "        print (\"Lebar:\",self.__lebar)\n",
    "    def setPanjangdanLebar(self,panjang,lebar):\n",
    "        self.__panjang = panjang\n",
    "        self.__lebar = lebar\n",
    "\n",
    "class Circle(Shape):\n",
    "    __jari2 = 0\n",
    "    def getJari2(self):\n",
    "        print (\"Jari-jari:\",self.__jari2)\n",
    "    def setJari2(self,jari2):\n",
    "        self.__jari2 = jari2\n",
    "\n",
    "class Triangle(Shape):\n",
    "    __panjang = 0\n",
    "    __sisi = 0\n",
    "    def getPanjangdanSisi(self):\n",
    "        print (\"Panjang:\",self.__panjang)\n",
    "        print (\"Sisi:\",self.__sisi)\n",
    "    def setPanjangdanSisi(self,panjang,sisi):\n",
    "        self.__panjang = panjang\n",
    "        self.__sisi = sisi\n",
    "\n",
    "Segitiga = Triangle()\n",
    "Segitiga.setNama (\"Segitiga Sama Sisi\")\n",
    "Segitiga.setPanjangdanSisi(5,75)\n",
    "Segitiga.getNama ()\n",
    "Segitiga.getPanjangdanSisi ()\n",
    "\n",
    "Persegipanjang = Rectangle ()\n",
    "Persegipanjang.setNama (\"Persegi Panjang\")\n",
    "Persegipanjang.setPanjangdanLebar (10,15)\n",
    "Persegipanjang.getNama ()\n",
    "Persegipanjang.getPanjangdanLebar ()\n",
    "\n",
    "Lingkaran = Circle ()\n",
    "Lingkaran.setNama (\"Lingkaran besar\")\n",
    "Lingkaran.setJari2 (21)\n",
    "Lingkaran.getNama ()\n",
    "Lingkaran.getJari2 ()"
   ]
  },
  {
   "cell_type": "code",
   "execution_count": 9,
   "metadata": {},
   "outputs": [
    {
     "name": "stdout",
     "output_type": "stream",
     "text": [
      "(58, 10)\n",
      "(46, -4)\n"
     ]
    }
   ],
   "source": [
    "class bilangan:\n",
    "    def __init__(self,a,b):\n",
    "        self.a=a\n",
    "        self.b=b\n",
    "    def __add__(self,other):\n",
    "        return self.a+other.a,self.b+other.b\n",
    "    def __sub__(self,other):\n",
    "        return self.a-other.a,self.b-other.b\n",
    "    def __str__(self):\n",
    "        return self.a,self.b\n",
    "o1=bilangan(52,3)\n",
    "o2=bilangan(6,7)\n",
    "o3=o1+o2\n",
    "o4=o1-o2\n",
    "print (o3)\n",
    "print (o4)"
   ]
  }
 ],
 "metadata": {
  "kernelspec": {
   "display_name": "Python 3",
   "language": "python",
   "name": "python3"
  },
  "language_info": {
   "codemirror_mode": {
    "name": "ipython",
    "version": 3
   },
   "file_extension": ".py",
   "mimetype": "text/x-python",
   "name": "python",
   "nbconvert_exporter": "python",
   "pygments_lexer": "ipython3",
   "version": "3.7.1"
  }
 },
 "nbformat": 4,
 "nbformat_minor": 2
}
