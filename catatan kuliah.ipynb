{
 "cells": [
  {
   "cell_type": "markdown",
   "metadata": {},
   "source": [
    "# CLASS VS OBJECT"
   ]
  },
  {
   "cell_type": "markdown",
   "metadata": {},
   "source": [
    "perbedaan atribut dan method<br>\n",
    "<img src=\"gambar/2.png\">"
   ]
  },
  {
   "cell_type": "markdown",
   "metadata": {},
   "source": [
    "\n",
    "<img src=\"gambar/3.png\"> <img src=\"gambar/4.png\">"
   ]
  },
  {
   "cell_type": "markdown",
   "metadata": {},
   "source": [
    "keyword class diikuti dengan nama class yang kita inginkan. Lebih baik digunakan kata yang diawali huruf kapital.\n",
    "constructor menggunakan method bawaan Python yang bernama init \n",
    "Metode __init__() adalah metode konstruktor, yaitu metode khusus yang digunakan Python \n",
    "untuk menginisialisasi pembuatan objek dari kelas tersebut. \n",
    "Setiap method harus memiliki parameter self yang artinya method tersebut dimiliki dan terdaftar ke class tersebut untuk membedakan dari method atau fungsi yang ada di luar class\n",
    "Struktur data yang bisa kita gunakan untuk mendefinisikan objek yang menyimpan data bersama-sama nilai-nilai dan perilaku (behavior). Kelas adalah suatu entitas yang merupakan bentuk program dari suatu abstraksi untuk permasalahan dunia nyata, dan instans dari class merupakan realisasi dari beberapa objek.\u000b"
   ]
  },
  {
   "cell_type": "code",
   "execution_count": null,
   "metadata": {},
   "outputs": [],
   "source": [
    "class kubus:\n",
    "    def __init__(self,s):\n",
    "        self.sisi=5\n",
    "    def tampilkansisi(self):\n",
    "        print(self.sisi)\n",
    "    def luas(self):\n",
    "        print(\"Luas=\" ,self.sisi**2)\n",
    "    def volume(self):\n",
    "        print(\"VOLUME=\" ,self.sisi**3)\n",
    "    def luaspermukaan(self):\n",
    "        print(\"luaspermukaan=\" ,self.sisi**2*6)\n",
    "kubus1=kubus(4)\n",
    "kubus1.tampilkansisi()\n",
    "kubus1.luas()\n",
    "kubus1.volume()\n",
    "kubus1.luaspermukaan()"
   ]
  },
  {
   "cell_type": "code",
   "execution_count": 1,
   "metadata": {},
   "outputs": [
    {
     "name": "stdout",
     "output_type": "stream",
     "text": [
      "adi , admin dan 150000\n",
      "umur : 19\n"
     ]
    }
   ],
   "source": [
    "from datetime import datetime\n",
    "sekarang=datetime.now()\n",
    "tahun=sekarang.year\n",
    "\n",
    "class pegawai:\n",
    "    def __init__(self,n,j,g,lahir):\n",
    "        self.nama=n\n",
    "        self.jabatan=j\n",
    "        self.gaji=g\n",
    "        self.tahunlahir=lahir\n",
    "        \n",
    "    def tampilkan(self):\n",
    "        print(self.nama,\",\",self.jabatan,\"dan\",self.gaji*30)\n",
    "        \n",
    "    def tampilkanumur(self):\n",
    "        print(\"umur :\",tahun-self.tahunlahir)\n",
    "\n",
    "p1=pegawai(\"adi\",\"admin\",5000,2000)\n",
    "p1.tampilkan()\n",
    "p1.tampilkanumur()"
   ]
  },
  {
   "cell_type": "code",
   "execution_count": 2,
   "metadata": {},
   "outputs": [
    {
     "name": "stdout",
     "output_type": "stream",
     "text": [
      "NURFALAH ALFURQON , 180441100087 , 3.7\n",
      "lulus bidik misi\n"
     ]
    }
   ],
   "source": [
    "class mahasiswa:\n",
    "    def __init__(self,a,b,c):\n",
    "        self.nama=a\n",
    "        self.nim=b\n",
    "        self.ipk=c\n",
    "    def tampilkan(self):\n",
    "        print(self.nama,\",\",self.nim,\",\",self.ipk)\n",
    "    def lulus(self):\n",
    "        if self.ipk>=3:\n",
    "            print(\"lulus bidik misi\")\n",
    "        else:\n",
    "            print((\"tidak lulus bidikmisi\"))\n",
    "        \n",
    "m1=mahasiswa(\"NURFALAH ALFURQON\",180441100087,3.7)\n",
    "m1.tampilkan()\n",
    "m1.lulus()\n",
    "        "
   ]
  },
  {
   "cell_type": "code",
   "execution_count": 3,
   "metadata": {},
   "outputs": [
    {
     "name": "stdout",
     "output_type": "stream",
     "text": [
      "180441100087\n",
      "NURFALAH ALFURQON\n",
      "semester sekarang: 2\n"
     ]
    }
   ],
   "source": [
    "from datetime import datetime\n",
    "sekarang=datetime.now()\n",
    "tahun=sekarang.year\n",
    "bulan=sekarang.month\n",
    "hari=sekarang.day\n",
    "class mahasiswa:\n",
    "    def __init__(self, a, b):\n",
    "        self.npm = a\n",
    "        self.nama = b\n",
    "\n",
    "    def data(self):\n",
    "        print(self.npm)\n",
    "        print(self.nama)\n",
    "\n",
    "    def tebaksemester(self):\n",
    "        self.angkatan = \"20\" + self.npm[:2]\n",
    "        self.angkatan = int(self.angkatan)\n",
    "        self.smt = tahun - self.angkatan\n",
    "        if (bulan <= 12 and bulan > 6):\n",
    "            self.smt = tahun - self.angkatan+1\n",
    "            if (self.smt == 1):\n",
    "                self.semester = \"1\"\n",
    "            elif (self.smt == 2):\n",
    "                self.semester = \"3\"\n",
    "            elif (self.smt == 3):\n",
    "                self.semester = \"5\"\n",
    "            elif (self.smt == 4):\n",
    "                self.semester = \"7\"\n",
    "            elif (self.smt == 5):\n",
    "                self.semester = \"9\"\n",
    "            elif (self.smt == 6):\n",
    "                self.semester = \"11\"\n",
    "            else:\n",
    "                self.semester = \"mahasiswa telah lulus\"\n",
    "        if (bulan >= 1 and bulan <= 6):\n",
    "            if (self.smt == 1):\n",
    "                self.semester = \"2\"\n",
    "            elif (self.smt == 2):\n",
    "                self.semester = \"4\"\n",
    "            elif (self.smt == 3):\n",
    "                self.semester = \"6\"\n",
    "            elif (self.smt == 4):\n",
    "                self.semester = \"8\"\n",
    "            elif (self.smt == 5):\n",
    "                self.semester = \"10\"\n",
    "            elif (self.smt == 6):\n",
    "                self.semester = \"12\"\n",
    "            else:\n",
    "                self.semester = \"mahasiswa telah lulus\"\n",
    "        print(\"semester sekarang:\", self.semester)\n",
    "\n",
    "\n",
    "m1 = mahasiswa(\"180441100087\", \"NURFALAH ALFURQON\")\n",
    "m1.data()\n",
    "m1.tebaksemester()\n",
    "\n",
    "\n",
    "                "
   ]
  },
  {
   "cell_type": "code",
   "execution_count": 4,
   "metadata": {},
   "outputs": [
    {
     "name": "stdout",
     "output_type": "stream",
     "text": [
      "no : 180441100087\n",
      "nama : NURFALAH ALFURQON\n",
      "umur : 19 tahun\n"
     ]
    }
   ],
   "source": [
    "from datetime import datetime\n",
    "sekarang=datetime.now()\n",
    "tahun=sekarang.year\n",
    "bulan=sekarang.month\n",
    "hari=sekarang.day\n",
    "\n",
    "class pegawai:\n",
    "    def __init__(self,a,b,c,d,e):\n",
    "        self.no=a\n",
    "        self.nama=b\n",
    "        self.tgl=c\n",
    "        self.bln=d\n",
    "        self.thn=e\n",
    "    def tampilkan(self):\n",
    "        print(\"no :\",self.no)\n",
    "        print(\"nama :\",self.nama)\n",
    "    def tampilkanumur(self):\n",
    "        self.umur=tahun-self.thn\n",
    "        if(self.bln==bulan):\n",
    "            if(self.tgl>hari):\n",
    "                self.umur=self.umur-1\n",
    "        elif(self.bln>bulan):\n",
    "            self.umur=self.umur-1\n",
    "        print(\"umur :\",self.umur,\"tahun\")\n",
    "\n",
    "p1=pegawai(180441100087,\"NURFALAH ALFURQON\",8,1,2000)\n",
    "p1.tampilkan()\n",
    "p1.tampilkanumur()"
   ]
  },
  {
   "cell_type": "code",
   "execution_count": null,
   "metadata": {},
   "outputs": [
    {
     "name": "stdout",
     "output_type": "stream",
     "text": [
      "Hello,nama saya NURFALAH ALFURQON\n",
      "umur saya 19 tahun\n",
      "tempat lahir saya di sumenep\n",
      "Hobby saya adalah Badminton\n",
      "Cita-Cita saya adalah Pengusaha\n",
      "saya sekolah di UNIVERSITAS TRUNOJOYO MADURA\n"
     ]
    }
   ],
   "source": [
    "from datetime import datetime\n",
    "sekarang=datetime.now()\n",
    "tahun=sekarang.year\n",
    "bulan=sekarang.month\n",
    "hari=sekarang.day\n",
    "class orang:\n",
    "    def __init__(self,a,b,c,d,e,f,g,h,i,j,k):\n",
    "        self.nama=a\n",
    "        self.tempat=b\n",
    "        self.tgl=c\n",
    "        self.bln=d\n",
    "        self.thn=e\n",
    "        self.hobby=f\n",
    "        self.cita = g\n",
    "        self.sekolah=h\n",
    "        self.tglprediksi=i\n",
    "        self.blnprediksi=j\n",
    "        self.thnprediksi=k\n",
    "    def tampilkan(self):\n",
    "        self.umur=tahun-self.thn\n",
    "        if(self.bln==bulan):\n",
    "            if(self.tgl>hari):\n",
    "                self.umur=self.umur-1\n",
    "        elif(self.bln>bulan):\n",
    "            self.umur=self.umur-1\n",
    "        print(\"Hello,nama saya\",self.nama)\n",
    "        print(\"umur saya\",self.umur,\"tahun\")\n",
    "        print(\"tempat lahir saya di\",self.tempat)\n",
    "        print(\"Hobby saya adalah\",self.hobby)\n",
    "        print(\"Cita-Cita saya adalah\",self.cita)\n",
    "        print(\"saya sekolah di\",self.sekolah)\n",
    "    def prediksi(self):\n",
    "        hari=int(input(\"masukan tgl prediksi :\"))\n",
    "        bulan=int(input(\"masukan bln prediksi :\"))\n",
    "        tahun=int(input(\"masukan tahun prediksi :\"))\n",
    "        self.umur=tahun-self.thn\n",
    "        if(self.bln==bulan):\n",
    "            if(self.tgl>hari):\n",
    "                self.umur=self.umur-1\n",
    "        elif(self.bln>bulan):\n",
    "            self.umur=self.umur-1\n",
    "        print(\"umur saya pada tanggal\",hari,\",bulan\",bulan,\",tahun\",tahun,\"adalah\",self.umur,\"tahun\")\n",
    "z=orang(\"NURFALAH ALFURQON\",\"sumenep\",8,1,2000,\"Badminton\",\"Pengusaha\",\"UNIVERSITAS TRUNOJOYO MADURA\",8,1,2000)\n",
    "z.tampilkan()\n",
    "z.prediksi()"
   ]
  },
  {
   "cell_type": "code",
   "execution_count": null,
   "metadata": {},
   "outputs": [],
   "source": [
    "#prediksi umur\n",
    "hari=int(input(\"masukan tgl prediksi :\"))\n",
    "bulan=int(input(\"masukan bln prediksi :\"))\n",
    "tahun=int(input(\"masukan tahun prediksi :\"))\n",
    "class orang:\n",
    "    def __init__(self,a,b,c):\n",
    "        self.tgl=a\n",
    "        self.bln=b\n",
    "        self.thn=c\n",
    "    def tampilkan(self):\n",
    "        self.umur=tahun-self.thn\n",
    "        if(self.bln==bulan):\n",
    "            if(self.tgl>hari):\n",
    "                self.umur=self.umur-1\n",
    "        elif(self.bln>bulan):\n",
    "            self.umur=self.umur-1\n",
    "        print(\"umur saya pada tanggal\",hari,\"bulan\",bulan,\"tahun\",tahun,\"adalah\",self.umur,\"tahun\")\n",
    "a=orang(8,1,2000)\n",
    "a.tampilkan()"
   ]
  },
  {
   "cell_type": "markdown",
   "metadata": {},
   "source": [
    "# Inheritance"
   ]
  },
  {
   "cell_type": "markdown",
   "metadata": {},
   "source": [
    "Pengertian Inheritance (Pewarisan) Inheritance atau Pewarisan/Penurunan adalah konsep pemrograman dimana sebuah class dapat ‘menurunkan’ property dan method yang dimilikinya kepada class lain. Konsep inheritance digunakan untuk memanfaatkan fitur ‘code reuse’ untuk menghindari duplikasi kode program. Konsep inheritance membuat sebuah struktur atau ‘hierarchy’ class dalam kode program. Class yang akan ‘diturunkan’ bisa disebut sebagai class induk (parent class), super class, atau base class. Sedangkan class yang ‘menerima penurunan’ bisa disebut sebagai class anak (child class), sub class, derived class atauheir class."
   ]
  },
  {
   "cell_type": "markdown",
   "metadata": {},
   "source": [
    "<img src=\"gambar/8.png\">"
   ]
  },
  {
   "cell_type": "markdown",
   "metadata": {},
   "source": [
    "<img src=\"gambar/5.png\">"
   ]
  },
  {
   "cell_type": "markdown",
   "metadata": {},
   "source": [
    "<img src=\"gambar/6.png\">"
   ]
  },
  {
   "cell_type": "code",
   "execution_count": null,
   "metadata": {},
   "outputs": [],
   "source": [
    "class user:\n",
    "    def __init__(self,firstname):\n",
    "        self.firstname=firstname\n",
    "        print(\"nama depan =\",self.firstname)\n",
    "class programmer(user):\n",
    "    def __init__(self,first,lastname):\n",
    "        super().__init__(first)\n",
    "        print(\"nama belakang\",lastname)\n",
    "        self.lastname=lastname\n",
    "    def dopython(self):\n",
    "        print(\"programming python\")\n",
    "    def printname(self):\n",
    "        print(\"name\",self.firstname,self.lastname)\n",
    "brian=user(\"brian\")\n",
    "diana=programmer(\"diana\",\"maya\")\n",
    "diana.printname()\n",
    "diana.dopython()"
   ]
  },
  {
   "cell_type": "code",
   "execution_count": null,
   "metadata": {},
   "outputs": [],
   "source": [
    "class fish:\n",
    "    def __init__(self,first_name,last_name=\"fish\",skeleton=\"bone\",eyelids=False):\n",
    "        self.first_name=first_name\n",
    "        self.last_name=last_name\n",
    "        self.skeleton=skeleton\n",
    "        self.eyelids=eyelids\n",
    "    def swim(self):\n",
    "        print(\"the fish is swimming\")\n",
    "    def swim_backwards(self):\n",
    "        print(\"the fish can swim backwards\")\n",
    "class trout(fish):\n",
    "    pass\n",
    "terry=trout(\"terry\")\n",
    "print(terry.first_name+\"\"+terry.last_name)\n",
    "print(terry.skeleton)\n",
    "print(terry.skeleton)\n",
    "print(terry.eyelids)\n",
    "terry.swim()\n",
    "terry.swim_backwards()\n",
    "class clownfish(fish):\n",
    "    def live_with_anemone(self):\n",
    "        print(\"the clownfish is coexisting with sea anemone\")\n",
    "        casey=clownfish(\"casey\")\n",
    "        print(casey.first_name+\"\"+casey.last_name)\n",
    "        casey.swim()\n",
    "        casey.live_with_anemone()\n",
    "class shark(fish):\n",
    "    def __init__(self,first_name,last_name=\"shark\",skeleton=\"cartilage\",eyelids=True):\n",
    "        self.first_name=first_name\n",
    "        self.last_name=last_name\n",
    "        self.skeleton=skeleton\n",
    "        self.eyelids=eyelids\n",
    "    def swim_backwards(self):\n",
    "        print(\"the shark cannot swim backwards, but can sink backwards\")\n",
    "class trout1(fish):\n",
    "    def __init__ (self,water,first_name,last_name,skeleton,eyelids):\n",
    "        self.water=water\n",
    "        super().__init__(first_name,last_name,skeleton,eyelids)\n",
    "terry=trout1(\"freshwater\",\"shark\",\"fish\",\"no bone\",\"true\")\n",
    "print(terry.first_name)"
   ]
  },
  {
   "cell_type": "code",
   "execution_count": null,
   "metadata": {},
   "outputs": [],
   "source": [
    "class coral:\n",
    "    def a(self):\n",
    "        print(\"coral lives in a community\")\n",
    "class anemone:\n",
    "    def b(self):\n",
    "        print(\"the anemone protecting\")\n",
    "class coralreef(coral,anemone):\n",
    "    pass\n",
    "\n",
    "a=coralreef()\n",
    "a.a()\n",
    "a.b()\n"
   ]
  },
  {
   "cell_type": "code",
   "execution_count": null,
   "metadata": {},
   "outputs": [],
   "source": [
    "class orang:\n",
    "    def __init__(self,nama):\n",
    "        self.nama=nama\n",
    "    def a(self):\n",
    "        print(\"my name is\",self.nama)\n",
    "\n",
    "class mahasiswa(orang):\n",
    "    def __init__(self,nama,npm):\n",
    "        super().__init__(nama)\n",
    "        self.npm=npm\n",
    "    def c(self):\n",
    "        print(\"Mahasiswa\")\n",
    "        print(\"nama :\",self.nama)\n",
    "        print(\"NPM :\",self.npm)\n",
    "class pegawai(orang):\n",
    "    def __init__(self,nama,nip):\n",
    "        super().__init__(nama)\n",
    "        self.nip=nip\n",
    "    def b(self):\n",
    "        print(\"pegawai\")\n",
    "        print(\"nama :\",self.nama)\n",
    "        print(\"NIP : \",self.nip)\n",
    "class karyawan(pegawai):\n",
    "    pass\n",
    "class dosen(pegawai):\n",
    "    def __init__(self,nama,nip,nidn):\n",
    "        super().__init__(nama,nip)\n",
    "        self.nidn=nidn\n",
    "    def d(self):\n",
    "        print(\"dosen\")\n",
    "        print(\"nama :\",self.nama)\n",
    "        print(\"NIP :\",self.nip)\n",
    "        print(\"NIDN :\",self.nidn)\n",
    "a=orang(\"nofal\")\n",
    "a.a()\n",
    "a=pegawai(\"ibnu fajar\",1830148935)\n",
    "a.b()\n",
    "a=mahasiswa(\"bambang\",2846284682)\n",
    "a.c()\n",
    "a=dosen(\"sri wahyuni\",237823,2435636)\n",
    "a.d()\n"
   ]
  },
  {
   "cell_type": "code",
   "execution_count": 1,
   "metadata": {},
   "outputs": [
    {
     "name": "stdout",
     "output_type": "stream",
     "text": [
      "IDENTITAS MULE\n",
      "Nama Mule    = Muleku\n",
      "Jenis rambut = Keriting\n",
      "Berat badan  = 50 \n",
      "\n",
      "IDENTITAS KUDA\n",
      "Nama Kuda    = Kudaku\n",
      "Jenis rambut = Lurus panjang \n",
      "\n",
      "IDENTITAS KELEDAI\n",
      "Nama Keledai = Keledaiku\n",
      "Berat badan  = 150 \n",
      "\n"
     ]
    }
   ],
   "source": [
    "class Kuda:\n",
    "    def __init__(self,nama,jenisrambut):\n",
    "        self.nama = nama\n",
    "        self.jenisrambut= jenisrambut\n",
    "    \n",
    "    def showInfo(self):\n",
    "        print(\"IDENTITAS KUDA\")\n",
    "        print(\"Nama Kuda    =\",self.nama)\n",
    "        print(\"Jenis rambut =\",self.jenisrambut,\"\\n\")\n",
    "\n",
    "class Keledai:\n",
    "    def __init__(self,nama,bb):\n",
    "        self.nama = nama\n",
    "        self.bb = bb\n",
    "    \n",
    "    def showInfo(self):\n",
    "        print(\"IDENTITAS KELEDAI\")\n",
    "        print(\"Nama Keledai =\",self.nama)\n",
    "        print(\"Berat badan  =\",self.bb,\"\\n\")\n",
    "        \n",
    "class Mule(Kuda,Keledai):\n",
    "    def __init__(self,nama,jenisrambut,bb):\n",
    "        Kuda.__init__(self,nama,jenisrambut)\n",
    "        Keledai.__init__(self,nama,bb)\n",
    "    \n",
    "    def showInfo(self):\n",
    "        print(\"IDENTITAS MULE\")\n",
    "        print(\"Nama Mule    =\",self.nama)\n",
    "        print(\"Jenis rambut =\",self.jenisrambut)\n",
    "        print(\"Berat badan  =\",self.bb,\"\\n\")\n",
    "\n",
    "objek1 = Mule(\"Muleku\",\"Keriting\",\"50\")\n",
    "objek1.showInfo()\n",
    "\n",
    "objek2 = Kuda(\"Kudaku\",\"Lurus panjang\")\n",
    "objek2.showInfo()\n",
    "\n",
    "objek1 = Keledai(\"Keledaiku\",\"150\")\n",
    "objek1.showInfo()"
   ]
  },
  {
   "cell_type": "code",
   "execution_count": 13,
   "metadata": {},
   "outputs": [
    {
     "name": "stdout",
     "output_type": "stream",
     "text": [
      "NAMA nofal\n",
      "============\n",
      "karyawan\n",
      "nama bambang\n",
      "KODE PEGAWAI: 353646\n",
      "============\n",
      "karyawan cabang\n",
      "nama : samsol\n",
      "KODE PEGAWAI: 35353\n",
      "KODE LOKASI : 4643\n"
     ]
    }
   ],
   "source": [
    "class orang:\n",
    "    def __init__(self,nama):\n",
    "        self.nama=nama\n",
    "    def tampilkan(self):\n",
    "        print(\"NAMA\",self.nama)\n",
    "class karyawan(orang):\n",
    "    def __init__(self,nama,kodepegawai):\n",
    "        super().__init__(nama)\n",
    "        self.kodepegawai=kodepegawai\n",
    "    def tampilkan1(self):\n",
    "        print(\"============\")\n",
    "        print(\"karyawan\")\n",
    "        print(\"nama\",self.nama)\n",
    "        print(\"KODE PEGAWAI:\",self.kodepegawai)\n",
    "class karyawancabang(karyawan):\n",
    "    def __init__(self,nama,kodepegawai,kodelokasi):\n",
    "        super().__init__(nama,kodepegawai)\n",
    "        self.kodelokasi=kodelokasi\n",
    "    def tampilkan2(self):\n",
    "        print(\"============\")\n",
    "        print(\"karyawan cabang\")\n",
    "        print(\"nama :\",self.nama)\n",
    "        print(\"KODE PEGAWAI:\",self.kodepegawai)\n",
    "        print(\"KODE LOKASI :\",self.kodelokasi)\n",
    "a=orang(\"nofal\")\n",
    "a.tampilkan()\n",
    "b=karyawan(\"bambang\",\"353646\")\n",
    "b.tampilkan1()\n",
    "c=karyawancabang(\"samsol\",\"35353\",\"4643\")\n",
    "c.tampilkan2()\n"
   ]
  },
  {
   "cell_type": "code",
   "execution_count": 3,
   "metadata": {},
   "outputs": [
    {
     "name": "stdout",
     "output_type": "stream",
     "text": [
      "INFORMASI PENGAMBILAN MATAKULIAH\n",
      "\n",
      "NIM  : 180441100087\n",
      "Nama : Nurfalah Alfurqon\n",
      "\n",
      "Telah berhasil mengambil matakuliah ALGORITMA PEMROGRAMAN (SI104)\n",
      "\n",
      "Nilai yang didapat : C\n"
     ]
    }
   ],
   "source": [
    "class Mahasiswa:\n",
    "    def __init__(self,namaMhs,npm):\n",
    "        self.namaMhs = namaMhs\n",
    "        self.npm     = npm\n",
    "    \n",
    "    def showInfo(self):\n",
    "        print(\"Nama  :\",self.nama)\n",
    "        print(\"NPM   :\",self.npm)\n",
    "        \n",
    "class Matakuliah:\n",
    "    def __init__(self,kodeMk,namaMk):\n",
    "        self.kodeMk = kodeMk\n",
    "        self.namaMk = namaMk\n",
    "    \n",
    "    def showInfo(self):\n",
    "        print(\"Kode  :\",self.nama)\n",
    "        print(\"Matkul:\",self.npm)\n",
    "        \n",
    "class Pengambilanmk(Mahasiswa,Matakuliah):\n",
    "    def __init__(self,npm,namaMhs,kodeMk,namaMk,nilai):\n",
    "        Mahasiswa.__init__(self,namaMhs,npm)\n",
    "        Matakuliah.__init__(self,kodeMk,namaMk)\n",
    "        self.nilai = nilai\n",
    "        \n",
    "    def showInfo(self):\n",
    "        print(\"INFORMASI PENGAMBILAN MATAKULIAH\\n\")\n",
    "        print(\"NIM  :\",self.npm)\n",
    "        print(\"Nama :\",self.namaMhs)\n",
    "        print(\"\\nTelah berhasil mengambil matakuliah %s (%s)\"%(self.namaMk,self.kodeMk))\n",
    "        print(\"\\nNilai yang didapat :\",self.nilai)\n",
    "        \n",
    "objek1 = Pengambilanmk(\"180441100087\",\"Nurfalah Alfurqon\",\"SI104\",\"ALGORITMA PEMROGRAMAN\",\"C\")\n",
    "objek1.showInfo()"
   ]
  },
  {
   "cell_type": "markdown",
   "metadata": {},
   "source": [
    "# REVIEW & \u000b",
    "POLYMORPHISME "
   ]
  },
  {
   "cell_type": "markdown",
   "metadata": {},
   "source": [
    "Polymorphism berasal dari bahasa Yunani yang berarti banyak bentuk. Dalam PBO, konsep ini memungkinkan digunakannya suatu interface yang sama untuk memerintah objek agar melakukan aksi atau tindakan yang mungkin secara prinsip sama namun secara proses berbeda.\n",
    "\n",
    "Polymorphism merupakan kemampuan suatu method untuk bekerja dengan lebih dari satu tipe argumen. Pada bahasa lain (khususnya Python), konsep ini sering disebut dengan method overloading. Pada dasarnya, Python tidak menangani hal ini secara khusus. Hal ini disebabkan karena Python merupakan suatu bahasa pemrograman yang bersifat dynamic typing yaitu tidak memerlukan deklarasi tipe.\n",
    "\n",
    "Polymorphism adalah suatu object dapat memiliki berbagai bentuk, sebagai object dari class sendiri atau object dari superclassnya.\n",
    "\n",
    "Overloading: Penggunaan satu nama untuk beberapa method yang berbeda (beda parameter)\n",
    "Overriding: terjadi ketika deklarasi method subclass dengan nama dan parameter yang sama dengan method dari superclassnya.\n",
    "Keuntungan pemograman dengan menggunakan Polymorphism, yaitu :\n",
    "\n",
    "Dapat menggunakan kelas-kelas yang kita buat (sebagai super kelas) dan membuat kelas kelas baru berdasar superkelas tersebut dengan karakteristik yang lebih khusus dari behaviour umum yang dimiliki superkelas.\n",
    "Dapat membuat super kelas yang hanya mendefinisikan behaviuor namun tidak memberikan implementasidari metode-metode yang ada.Hal ini berguna jika ingin membuat template kelas, kelas ini disebut kelas abstrak karena behaviournya masih abstrak dan belum diimplementasikan. Subkelas-subkelas dari kelas ini yang disebut kelas konkret, mengimplementasikan behaviuor abstrak tersebut sesuai dengan kebutuhan masing-masing.\n",
    "Menghindari duplikasi object, yang dapat menciptakan class baru dari class yang sudah ada, sehingga tidak perlu menuliskan code dari nol ataupun mengulangnya, namun tetap bisa menambahkan attribute dan atau method unik dari class itu sendiri. Dalam konsep yang lebih umum sering kali polymorphism disebut dalam istilah satu interface banyak aksi.\n",
    "Polymorphism dapat berarti banyak bentuk, maksudnya yaitu dapat menimpa (override), suatu method, yang berasal dari parent class (super class) dimana object tersebut diturunkan, sehingga memiliki kelakuan yang berbeda."
   ]
  },
  {
   "cell_type": "markdown",
   "metadata": {},
   "source": [
    "<img src=\"gambar/9.png\">"
   ]
  },
  {
   "cell_type": "markdown",
   "metadata": {},
   "source": [
    "<img src=\"gambar/10.png\">"
   ]
  },
  {
   "cell_type": "markdown",
   "metadata": {},
   "source": [
    "<img src=\"gambar/11.png\">"
   ]
  },
  {
   "cell_type": "code",
   "execution_count": null,
   "metadata": {},
   "outputs": [],
   "source": [
    "class shark():\n",
    "    def swim(self):\n",
    "        print(\"the shark is swimming\")\n",
    "    def swim_backwards(Self):\n",
    "        print(\"the shark cannot swim backwards\")\n",
    "    def skeleton(self):\n",
    "        print(\"the shark skeleton is mode of cartillage\")\n",
    "class clownfish():\n",
    "    def swim(self):\n",
    "        print(\"the clown fish is swimming\")\n",
    "    def swim_backwards(Self):\n",
    "        print(\"the clownfish can swim backwards\")\n",
    "    def skeleton(self):\n",
    "        print(\"the clownfish skeleton is mode of bone\")\n",
    "a=shark()\n",
    "a.skeleton()\n",
    "\n",
    "b=clownfish()\n",
    "b.skeleton()\n",
    "\n",
    "#cara lain untuk pemanggilan\n",
    "print(\"=========================\")\n",
    "def in_the_pacific(fish):\n",
    "    fish.swim()\n",
    "    \n",
    "in_the_pacific(a)\n",
    "in_the_pacific(b)\n",
    "\n",
    "for fish in(a,b):\n",
    "    fish.swim()\n",
    "    fish.swim_backwards()\n",
    "    fish.skeleton()"
   ]
  },
  {
   "cell_type": "code",
   "execution_count": 8,
   "metadata": {},
   "outputs": [
    {
     "name": "stdout",
     "output_type": "stream",
     "text": [
      "groooarr\n",
      "guk guk\n"
     ]
    }
   ],
   "source": [
    "class bear():\n",
    "    def sound(self):\n",
    "        print(\"groooarr\")\n",
    "class dog():\n",
    "    def sound(self):\n",
    "        print(\"guk guk\")\n",
    "def makesound(hewan):\n",
    "    hewan.sound()\n",
    "bearobj=bear()\n",
    "dogobj=dog()\n",
    "makesound(bearobj)\n",
    "makesound(dogobj)"
   ]
  },
  {
   "cell_type": "code",
   "execution_count": 17,
   "metadata": {},
   "outputs": [
    {
     "name": "stdout",
     "output_type": "stream",
     "text": [
      "Document1:Show pdf contents!\n",
      "Document2:Show pdf contents!\n",
      "Document3:Show word contents!\n"
     ]
    }
   ],
   "source": [
    "class Document:\n",
    "    def __init__(self, name):\n",
    "        self.name = name\n",
    " \n",
    "    def show(self):\n",
    "        raise NotImplementedError(\"Subclass must implement abstract method\")\n",
    " \n",
    "class Pdf(Document):\n",
    "    def show(self):\n",
    "        return 'Show pdf contents!'\n",
    " \n",
    "class Word(Document):\n",
    "    def show(self):\n",
    "        return 'Show word contents!'\n",
    " \n",
    "documents = [Pdf('Document1'),\n",
    "            Pdf('Document2'),\n",
    "            Word('Document3')]\n",
    " \n",
    "for document in documents:\n",
    "    print (document.name + \":\"  + document.show())"
   ]
  },
  {
   "cell_type": "code",
   "execution_count": 3,
   "metadata": {},
   "outputs": [
    {
     "name": "stdout",
     "output_type": "stream",
     "text": [
      "Bananatruck: Truck driving slowly because heavily loaded.\n",
      "Orangetruck: Truck driving slowly because heavily loaded.\n",
      "Z3: Sportscar driving!\n",
      "\n",
      "Bananatruck: Truck braking!\n",
      "Orangetruck: Truck braking!\n",
      "Z3: Sportscar braking!\n"
     ]
    }
   ],
   "source": [
    "class Car:\n",
    "    def __init__(self, name):\n",
    "        self.name = name\n",
    " \n",
    "    def drive(self):\n",
    "        raise NotImplementedError(\"Subclass must implement abstract method\")\n",
    " \n",
    "    def stop(self):\n",
    "        raise NotImplementedError(\"Subclass must implement abstract method\")\n",
    " \n",
    "class Sportscar(Car):\n",
    "    def drive(self):\n",
    "        return 'Sportscar driving!'\n",
    " \n",
    "    def stop(self):\n",
    "        return 'Sportscar braking!'\n",
    " \n",
    "class Truck(Car):\n",
    "    def drive(self):\n",
    "        return 'Truck driving slowly because heavily loaded.'\n",
    " \n",
    "    def stop(self):\n",
    "        return 'Truck braking!'\n",
    " \n",
    "cars = [Truck('Bananatruck'),\n",
    "        Truck('Orangetruck'),\n",
    "        Sportscar('Z3')]\n",
    " \n",
    "for car in cars:\n",
    "    print (car.name + ': ' + car.drive())\n",
    "print()\n",
    "for car in cars:\n",
    "    print (car.name + ': ' + car.stop())"
   ]
  },
  {
   "cell_type": "code",
   "execution_count": 1,
   "metadata": {},
   "outputs": [
    {
     "name": "stdout",
     "output_type": "stream",
     "text": [
      "joni suaranya meong\n",
      "joni cara jalannya merangkak\n",
      "doggy suaranya guk guk\n",
      "doggy cara jalannya otot perut\n",
      "snake suaranya mendesis\n",
      "snake cara jalannya bergeser\n"
     ]
    }
   ],
   "source": [
    "class binatang:\n",
    "    def __init__(self,nama):\n",
    "        self.nama=nama\n",
    "    def suara(self):\n",
    "        raise NotImplementedError(\"\")\n",
    "    def berjalan(self):\n",
    "        raise NotImplementedError(\"\")\n",
    "class kucing(binatang):\n",
    "    def __init__(self,nama):\n",
    "        super().__init__(nama)\n",
    "    def suara(self):\n",
    "        print(self.nama,\"suaranya meong\")\n",
    "    def berjalan(self):\n",
    "        print(self.nama,\"cara jalannya merangkak\")\n",
    "class anjing(binatang):\n",
    "    def __init__(self,nama):\n",
    "        super().__init__(nama)\n",
    "    def suara(self):\n",
    "        print(self.nama,\"suaranya guk guk\")\n",
    "    def berjalan(self):\n",
    "        print(self.nama,\"cara jalannya otot perut\")\n",
    "class ular(binatang):\n",
    "    def __init__(self,nama):\n",
    "        super().__init__(nama)\n",
    "    def suara(self):\n",
    "        print(self.nama,\"suaranya mendesis\")\n",
    "    def berjalan(self):\n",
    "        print(self.nama,\"cara jalannya bergeser\")\n",
    "a=kucing(\"joni\")\n",
    "b=anjing(\"doggy\")\n",
    "c=ular(\"snake\")\n",
    "for hewan in (a,b,c):\n",
    "    hewan.suara()\n",
    "    hewan.berjalan()\n",
    "\n"
   ]
  },
  {
   "cell_type": "code",
   "execution_count": 8,
   "metadata": {},
   "outputs": [
    {
     "name": "stdout",
     "output_type": "stream",
     "text": [
      "Bangun Ruang:  Persegi ;banyak garis :  4 ;Besar sudut:  90 deg ;Warna : Kuning\n",
      "\n",
      "Bangun Ruang:  Lingkaran ;banyak garis :  0 ;Besar sudut:  360 deg ;Warna : Biru\n",
      "\n",
      "Bangun Ruang:  Segitiga ;banyak garis :  3 ;Besar sudut:  30 deg ;Warna : Hijau\n",
      "\n"
     ]
    }
   ],
   "source": [
    "class shape:\n",
    "    def __init__(self, nama, jgaris):\n",
    "        self.nama = nama\n",
    "        self.jgaris = jgaris\n",
    "\n",
    "    def name(self):\n",
    "        raise NotImplementedError()\n",
    "\n",
    "    def garis(self):\n",
    "        raise NotImplementedError()\n",
    "\n",
    "class persegi(shape):\n",
    "    def __init__(self, sudut, nama, jgaris, color):\n",
    "        shape.__init__(self, nama, jgaris)\n",
    "        self.sudut = sudut\n",
    "        self.color = color\n",
    "\n",
    "    # PRINT\n",
    "    def name(self):\n",
    "        return self.nama\n",
    "\n",
    "    def garis(self):\n",
    "        return self.jgaris\n",
    "\n",
    "    def cetak_sudut(self):\n",
    "        return self.sudut\n",
    "\n",
    "    def warna(self):\n",
    "        return self.color\n",
    "\n",
    "\n",
    "class lingkaran(shape):\n",
    "    def __init__(self, sudut, nama, jgaris, color):\n",
    "        shape.__init__(self, nama, jgaris)\n",
    "        self.sudut = sudut\n",
    "        self.color = color\n",
    "\n",
    "    # PRINT\n",
    "    def name(self):\n",
    "        return self.nama\n",
    "\n",
    "    def garis(self):\n",
    "        return \"0\"\n",
    "\n",
    "    def cetak_sudut(self):\n",
    "        return \"360 deg\"\n",
    "\n",
    "    def warna(self):\n",
    "        return self.color\n",
    "\n",
    "\n",
    "class segitiga(shape):\n",
    "    def __init__(self, sudut, nama, jgaris, color):\n",
    "        shape.__init__(self, nama, jgaris)\n",
    "        self.sudut = sudut\n",
    "        self.color = color\n",
    "\n",
    "    # PRINT\n",
    "    def name(self):\n",
    "        return self.nama\n",
    "\n",
    "    def garis(self):\n",
    "        return self.jgaris\n",
    "\n",
    "    def cetak_sudut(self):\n",
    "        return self.sudut\n",
    "\n",
    "    def warna(self):\n",
    "        return self.color\n",
    "\n",
    "\n",
    "bangun_1 = persegi(\"90 deg\", \"Persegi\", \"4\", \"Kuning\")\n",
    "bangun_2 = lingkaran(\"360 deg\", \"Lingkaran\", \"1\", \"Biru\")\n",
    "bangun_3 = segitiga(\"30 deg\", \"Segitiga\", \"3\", \"Hijau\")\n",
    "\n",
    "for ruang in (bangun_1, bangun_2, bangun_3):\n",
    "    print(\"Bangun Ruang: \", ruang.name(), \";banyak garis : \", ruang.garis(), \";Besar sudut: \", ruang.cetak_sudut(),\n",
    "          \";Warna :\", ruang.warna())\n",
    "    print()"
   ]
  },
  {
   "cell_type": "code",
   "execution_count": 3,
   "metadata": {},
   "outputs": [
    {
     "name": "stdout",
     "output_type": "stream",
     "text": [
      "katty : kasir\n",
      "helly : pelayan\n",
      "cobra : manajer\n",
      "jony : kurir\n",
      "jono : cheff\n",
      "dodi : kooki\n",
      "dodo : Ob\n",
      "jery : satpam\n",
      "juminten : ob\n",
      "jojo : pelayan\n"
     ]
    }
   ],
   "source": [
    "class karyawan:\n",
    "    def __init__(self,nama,deskripsi):\n",
    "        self.nama=nama\n",
    "        self.deskripsi=deskripsi\n",
    "    def tampilkan(self):\n",
    "        print(\"nama:\",self.nama,\"\\n\",\"deskripsi:\",self.deskripsi)\n",
    "\n",
    "class koki(karyawan):\n",
    "    pass\n",
    "\n",
    "class pizza(karyawan):\n",
    "    pass\n",
    "\n",
    "karyawan_pizza=[pizza('katty','kasir'),\n",
    "                pizza('helly','pelayan'),\n",
    "                pizza('cobra','manajer'),\n",
    "                pizza('jony','kurir'),\n",
    "                pizza('jono','cheff'),\n",
    "                pizza('dodi','kooki'),\n",
    "                pizza('dodo','Ob'),\n",
    "                pizza('jery','satpam'),\n",
    "                pizza('juminten','ob'),\n",
    "                pizza('jojo','pelayan')]\n",
    "for karyawan in karyawan_pizza:\n",
    "    print(karyawan.nama,':',karyawan.deskripsi)"
   ]
  },
  {
   "cell_type": "code",
   "execution_count": 3,
   "metadata": {},
   "outputs": [
    {
     "name": "stdout",
     "output_type": "stream",
     "text": [
      "Hello \n",
      "Hello Guido\n"
     ]
    }
   ],
   "source": [
    "class Human:\n",
    "    def sayHello(self, name=None):\n",
    "        if name is not None:\n",
    "            print('Hello ' + name)\n",
    "        else:print('Hello ')\n",
    "# Create instance\n",
    "obj = Human()\n",
    "\n",
    "# Call the method\n",
    "obj.sayHello()\n",
    "\n",
    "# Call the method with a parameter\n",
    "obj.sayHello('Guido')"
   ]
  },
  {
   "attachments": {},
   "cell_type": "markdown",
   "metadata": {},
   "source": [
    "# Operator and Method Overloading"
   ]
  },
  {
   "attachments": {},
   "cell_type": "markdown",
   "metadata": {},
   "source": [
    "def add(a,b):\n",
    "    return a+b\n",
    "def add(a,b,c):\n",
    "    return a+b+c\n",
    "print(add(2,3))\n",
    "markdown"
   ]
  },
  {
   "cell_type": "markdown",
   "metadata": {},
   "source": [
    "<img src=\"gambar/ff.png\">"
   ]
  },
  {
   "cell_type": "code",
   "execution_count": 12,
   "metadata": {},
   "outputs": [
    {
     "name": "stdout",
     "output_type": "stream",
     "text": [
      "Point object is at:(3,1)\n",
      "Point object is at:(1,5)\n"
     ]
    }
   ],
   "source": [
    "class Point:\n",
    "    def __init__(self, x , y):\n",
    "        self.x = x\n",
    "        self.y = y\n",
    "    #def __str__(self):\n",
    "        #return \"({0},{1})\".format(self.x,self.y)\n",
    "    def __str__(self):\n",
    "        return \"Point object is at:(\"+str(self.x)+\",\"+str(self.y)+\")\"\n",
    "    def __sub__(self,other):\n",
    "        x = self.x - other.x\n",
    "        y = self.y - other.y\n",
    "        return Point(x,y)\n",
    "    def __add__(self,other):\n",
    "        x = self.x + other.x\n",
    "        y = self.y + other.y\n",
    "        return Point(x,y)\n",
    "    \n",
    "p1 = Point(2,3)\n",
    "p2 = Point(-1,2)\n",
    "print(p1-p2)\n",
    "print(p1+p2)"
   ]
  },
  {
   "cell_type": "code",
   "execution_count": 33,
   "metadata": {},
   "outputs": [
    {
     "name": "stdout",
     "output_type": "stream",
     "text": [
      "2/4\n",
      "hasil tambah pecaha : 6/8\n",
      "hasil kurang pecahan : -2/8\n",
      "hasil bagi pecahan : 2/4\n",
      "hasil kali pecahan : 1/8\n"
     ]
    }
   ],
   "source": [
    "class Fraction:\n",
    "    def __init__(self,top,bottom):\n",
    "        self.atas = top\n",
    "        self.bawah = bottom\n",
    "    \n",
    "    #def show(self):\n",
    "        #print(self.num,\"/\",self.den)\n",
    "        \n",
    "    def __str__(self):\n",
    "        return str(self.atas)+\"/\"+str(self.bawah)\n",
    "\n",
    "\n",
    "    def __add__(self,other):\n",
    "        newatas = self.atas * other.bawah + self.bawah * other.atas\n",
    "        newbawah = self.bawah * other.bawah\n",
    "        return Fraction(newatas,newbawah)\n",
    "    \n",
    "    def __sub__(self,other):\n",
    "        newatas = self.atas * other.bawah- self.bawah * other.atas\n",
    "        newbawah = self.bawah* other.bawah\n",
    "        return Fraction(newatas,newbawah)\n",
    "    \n",
    "    def __truediv__(self,other):\n",
    "        newatas = self.atas* other.bawah\n",
    "        newbawah = self.bawah * other.atas\n",
    "        return Fraction(newatas,newbawah)\n",
    "\n",
    "    def __mul__(self, other):\n",
    "        newatas = self.atas * other.atas\n",
    "        newbawah = self.bawah * other.bawah\n",
    "        return Fraction(newatas,newbawah)\n",
    "    \n",
    "f=Fraction(2,4)\n",
    "#Show(f)\n",
    "print(f)\n",
    "\n",
    "f1 = Fraction(1,4)\n",
    "f2 = Fraction(1,2)\n",
    "print(\"hasil tambah pecaha :\",f1+f2)\n",
    "print(\"hasil kurang pecahan :\",f1-f2)\n",
    "print(\"hasil bagi pecahan :\",f1/f2)\n",
    "print(\"hasil kali pecahan :\",f1*f2)\n"
   ]
  },
  {
   "cell_type": "code",
   "execution_count": 3,
   "metadata": {},
   "outputs": [
    {
     "name": "stdout",
     "output_type": "stream",
     "text": [
      "22\n",
      "23\n",
      "23\n"
     ]
    }
   ],
   "source": [
    "#encapsulation\n",
    "class robot(object):\n",
    "    def __init__(self):\n",
    "        self.__version=22\n",
    "    def getversion(self):\n",
    "        print(self.__version)\n",
    "    def setversion(self,version):\n",
    "        self.__version=version\n",
    "obj=robot()\n",
    "obj.getversion()\n",
    "obj.setversion(23)\n",
    "obj.getversion()\n",
    "#print(obj.__version) salah karena tdk ada pemanggilan classs\n",
    "print(obj._robot__version)"
   ]
  },
  {
   "cell_type": "code",
   "execution_count": 34,
   "metadata": {},
   "outputs": [
    {
     "name": "stdout",
     "output_type": "stream",
     "text": [
      "This is a public method\n",
      "This is a private method\n",
      "This is another private method\n"
     ]
    }
   ],
   "source": [
    "class A(object):\n",
    "    #public method\n",
    "    def myPublicMethod(self):\n",
    "        return \"This is a public method\"\n",
    "    #private method with single underscore\n",
    "    def _myPrivateMethod(self):\n",
    "        return \"This is a private method\"\n",
    "    #private method with double underscore\n",
    "    def __myAnotherPrivateMethod(self):\n",
    "        return \"This is another private method\"\n",
    "#nama objek\n",
    "obj1 = A()\n",
    "#we can access the public mehod which is cool\n",
    "print(obj1.myPublicMethod())\n",
    "#Note that we can also access the private method from outside\n",
    "print(obj1._myPrivateMethod())\n",
    "print(obj1._A__myAnotherPrivateMethod())"
   ]
  },
  {
   "cell_type": "code",
   "execution_count": 19,
   "metadata": {},
   "outputs": [
    {
     "name": "stdout",
     "output_type": "stream",
     "text": [
      "driving. maxspeed : 200\n",
      "driving. maxspeed : 10\n"
     ]
    }
   ],
   "source": [
    "class Car:\n",
    " \n",
    "    __maxspeed = 0\n",
    "    __name = \"\"\n",
    " \n",
    "    def __init__(self):\n",
    "        self.__maxspeed = 200\n",
    "        self.__name = \"Supercar\"\n",
    " \n",
    "    def drive(self):\n",
    "        print (\"driving. maxspeed : \" + str(self.__maxspeed))\n",
    " \n",
    "redcar = Car()\n",
    "redcar.drive()\n",
    "redcar.__maxspeed = 10  # will not change variable because its private\n",
    "redcar._Car__maxspeed=10 #cara mengubah variabel private\n",
    "redcar.drive()\n",
    "\n",
    "\n"
   ]
  },
  {
   "cell_type": "code",
   "execution_count": 21,
   "metadata": {},
   "outputs": [
    {
     "name": "stdout",
     "output_type": "stream",
     "text": [
      "updating software\n",
      "driving\n"
     ]
    }
   ],
   "source": [
    "class Car:\n",
    " \n",
    "    def __init__(self):\n",
    "        self.__updateSoftware()\n",
    "\n",
    "    def drive(self):\n",
    "        print ('driving')\n",
    "\n",
    "    def __updateSoftware(self):\n",
    "        print ('updating software')\n",
    " \n",
    "redcar = Car()\n",
    "redcar.drive()\n",
    "#redcar.__updateSoftware()  not accesible from object."
   ]
  },
  {
   "cell_type": "code",
   "execution_count": 1,
   "metadata": {},
   "outputs": [
    {
     "name": "stdout",
     "output_type": "stream",
     "text": [
      "Nama: Segitiga Sama Sisi\n",
      "Panjang: 5\n",
      "Sisi: 75\n",
      "Nama: Persegi Panjang\n",
      "Panjang: 10\n",
      "Lebar: 15\n",
      "Nama: Lingkaran besar\n",
      "Jari-jari: 21\n"
     ]
    }
   ],
   "source": [
    "class Shape(object):\n",
    "    __nama = 0\n",
    "    def getNama(self):\n",
    "        print (\"Nama:\",self.__nama)\n",
    "    def setNama(self,nama):\n",
    "        self.__nama = nama\n",
    "    \n",
    "class Rectangle(Shape):\n",
    "    __panjang = 0\n",
    "    __lebar = 0\n",
    "    def getPanjangdanLebar(self):\n",
    "        print (\"Panjang:\",self.__panjang)\n",
    "        print (\"Lebar:\",self.__lebar)\n",
    "    def setPanjangdanLebar(self,panjang,lebar):\n",
    "        self.__panjang = panjang\n",
    "        self.__lebar = lebar\n",
    "\n",
    "class Circle(Shape):\n",
    "    __jari2 = 0\n",
    "    def getJari2(self):\n",
    "        print (\"Jari-jari:\",self.__jari2)\n",
    "    def setJari2(self,jari2):\n",
    "        self.__jari2 = jari2\n",
    "\n",
    "class Triangle(Shape):\n",
    "    __panjang = 0\n",
    "    __sisi = 0\n",
    "    def getPanjangdanSisi(self):\n",
    "        print (\"Panjang:\",self.__panjang)\n",
    "        print (\"Sisi:\",self.__sisi)\n",
    "    def setPanjangdanSisi(self,panjang,sisi):\n",
    "        self.__panjang = panjang\n",
    "        self.__sisi = sisi\n",
    "\n",
    "Segitiga = Triangle()\n",
    "Segitiga.setNama (\"Segitiga Sama Sisi\")\n",
    "Segitiga.setPanjangdanSisi(5,75)\n",
    "Segitiga.getNama ()\n",
    "Segitiga.getPanjangdanSisi ()\n",
    "\n",
    "Persegipanjang = Rectangle ()\n",
    "Persegipanjang.setNama (\"Persegi Panjang\")\n",
    "Persegipanjang.setPanjangdanLebar (10,15)\n",
    "Persegipanjang.getNama ()\n",
    "Persegipanjang.getPanjangdanLebar ()\n",
    "\n",
    "Lingkaran = Circle ()\n",
    "Lingkaran.setNama (\"Lingkaran besar\")\n",
    "Lingkaran.setJari2 (21)\n",
    "Lingkaran.getNama ()\n",
    "Lingkaran.getJari2 ()"
   ]
  },
  {
   "cell_type": "code",
   "execution_count": 12,
   "metadata": {},
   "outputs": [
    {
     "name": "stdout",
     "output_type": "stream",
     "text": [
      "(58, 10)\n",
      "(46, -4)\n"
     ]
    }
   ],
   "source": [
    "class bilangan:\n",
    "    def __init__(self,a,b):\n",
    "        self.a=a\n",
    "        self.b=b\n",
    "    def __add__(self,other):\n",
    "        return self.a+other.a,self.b+other.b\n",
    "    def __sub__(self,other):\n",
    "        return self.a-other.a,self.b-other.b\n",
    "    def __str__(self):\n",
    "        return self.a,self.b\n",
    "o1=bilangan(52,3)\n",
    "o2=bilangan(6,7)\n",
    "o3=o1+o2\n",
    "o4=o1-o2\n",
    "print (o3)\n",
    "print (o4)"
   ]
  },
  {
   "cell_type": "code",
   "execution_count": null,
   "metadata": {},
   "outputs": [],
   "source": []
  }
 ],
 "metadata": {
  "kernelspec": {
   "display_name": "Python 3",
   "language": "python",
   "name": "python3"
  },
  "language_info": {
   "codemirror_mode": {
    "name": "ipython",
    "version": 3
   },
   "file_extension": ".py",
   "mimetype": "text/x-python",
   "name": "python",
   "nbconvert_exporter": "python",
   "pygments_lexer": "ipython3",
   "version": "3.7.1"
  }
 },
 "nbformat": 4,
 "nbformat_minor": 2
}
