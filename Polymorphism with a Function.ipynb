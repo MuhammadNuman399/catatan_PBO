{
 "cells": [
  {
   "cell_type": "markdown",
   "metadata": {},
   "source": [
    "# Polymorphism With a Function"
   ]
  },
  {
   "attachments": {
    "image.png": {
     "image/png": "[encoded data removed]"
    }
   },
   "cell_type": "markdown",
   "metadata": {},
   "source": [
    "Polymorphism merupakan suatu aksi yang memungkinkan pemogram menyampaikan suatu pesan tertentu keluar dari hierarki obyeknya, dimana suatu obyek tersebut yang berbeda memberikan tanggapan ataupun respon terhadap pesan yang sama sesuai dengan sifat masing-masing obyek. Itu berarti, Polymorphism “mempunyai banyak bentuk” yang juga merupakan salah satu sifat class yang memungkinkan sebuah method mempunyai nama yang sama, namun memiliki aksi yang berbeda.\n",
    "Polymorphism adalah pemikiran bahwa objek dinamis suatu class dasar dapat berperilaku seperti class turunan. Jika objek menunjuk class dasar maka ia perilaku seperti class dasar, dan jika ia menunjuk class turunan ia akan berperilaku seperti class turunan.Para\n",
    "\n",
    "Dalam hal ini obkjek memiliki beberapa bentuk, tergantung ia menunjuk kemana. Dalam hal ini suatu objek atau class dan perubahan perilakunya adalah dari kelas dasar ke kelas turunan, tidak bisa objek kelas turunan menunjuk ke kelas dasar. Polimorfisme dimungkinkan karena adanya mekanisme ikatan dinamis, ikatan ini adalah ikatan yang terjadi ketika program dijalankan (run-time), ikatan yang terjadi pada saat compiling disebut ikatan dinamis. Ikatan dinamis hanya akan terjadi antara suatu objek dinamis dengan metode yang dinamis juga, dalam hal ini metode virtual (maya)\n",
    "\n",
    "Polymorphism berasal dari bahasa Yunani yang berarti banyak bentuk. Dalam PBO, konsep ini memungkinkan digunakannya suatu interface yang sama untuk memerintah objek agar melakukan aksi atau tindakan yang mungkin secara prinsip sama namun secara proses berbeda.\n",
    "Keuntungan Pemograman dengan menggunakan Polymorphism adalah :\n",
    "• Kita dapat menggunakan kelas-kelas yang kita buat (sebagai super kelas) dan membuat kelas kelas baru berdasar superkelas tersebut dengan karakteristik yang lebih khusus dari behaviour umum yang dimiliki superkelas.\n",
    "\n",
    "• kita dapat membuat super kelas yang hanya mendefinisikan behaviuor namun tidak memberikan implementasidari metode-metode yang ada.Hal ini berguna jika kita ingin membuat semacam template kelas,kelas semacam ini disebut kelas abstrak karena behaviournya masih abstrak dan belum diimplementasikan.subkelas-subkelas dari kelas semacam ini yang disebut kelas konkret,mengimplementasikan behaviuor abstrak tersebut sesuai dengan kebutuhan masing-masing.\n",
    "\n",
    "• Menghindari duplikasi object,kita dapat menciptakan class baru dari class yang sudah ada,sehingga tidak perlu menuliskan code dari nol ataupun mengulangnya, namun tetap bisa menambahkan attribute dan atau method unik dari class itu sendiri. Dalam konsep yang lebih umum sering kali polymorphism disebut dalam istilah satu interface banyak aksi.\n",
    "\n",
    "![image.png](attachment:image.png)"
   ]
  },
  {
   "cell_type": "code",
   "execution_count": 16,
   "metadata": {},
   "outputs": [
    {
     "name": "stdout",
     "output_type": "stream",
     "text": [
      "Kerangka hiu terbuat dari tulang rawan.\n",
      "Kerangka ikan badut terbuat dari tulang.\n"
     ]
    }
   ],
   "source": [
    "class Shark:\n",
    "    def swim(self):\n",
    "        print(\"Hiu sedang berenang.\")\n",
    "    def swim_backwards(self):\n",
    "        print(\"Hiu tidak bisa berenang mundur.\")\n",
    "    def skeleton(self):\n",
    "        print(\"Kerangka hiu terbuat dari tulang rawan.\")\n",
    "class Clownfish():\n",
    "    def swim(self):\n",
    "        print(\"Ikan badut sedang berenang.\")\n",
    "    def swim_backwards(self):\n",
    "        print(\"Clownfish bisa berenang mundur.\")\n",
    "    def skeleton(self):\n",
    "        print(\"Kerangka ikan badut terbuat dari tulang.\")\n",
    "        \n",
    "sammy = Shark()\n",
    "sammy.skeleton()\n",
    "cassy = Clownfish()\n",
    "cassy.skeleton()"
   ]
  },
  {
   "cell_type": "code",
   "execution_count": 4,
   "metadata": {},
   "outputs": [
    {
     "name": "stdout",
     "output_type": "stream",
     "text": [
      "Hiu sedang berenang.\n",
      "Ikan badut sedang berenang.\n"
     ]
    }
   ],
   "source": [
    "def di_pasifik(fish):\n",
    "    fish.swim()\n",
    "    \n",
    "di_pasifik(sammy)\n",
    "di_pasifik(cassy)\n"
   ]
  },
  {
   "cell_type": "code",
   "execution_count": 6,
   "metadata": {},
   "outputs": [
    {
     "name": "stdout",
     "output_type": "stream",
     "text": [
      "Groaaarr\n",
      "Guukk guukk guukk\n"
     ]
    }
   ],
   "source": [
    "class Bear:\n",
    "    def sound(self):\n",
    "        print(\"Groaaarr\")\n",
    "class Dog:\n",
    "    def sound(self):\n",
    "        print(\"Guukk guukk guukk\")\n",
    "        \n",
    "def make_sound(animal):\n",
    "    animal.sound()\n",
    "    \n",
    "beruang = Bear()\n",
    "anjing = Dog()\n",
    "\n",
    "make_sound(beruang)\n",
    "make_sound(anjing)"
   ]
  },
  {
   "cell_type": "code",
   "execution_count": 7,
   "metadata": {},
   "outputs": [
    {
     "name": "stdout",
     "output_type": "stream",
     "text": [
      "Hiu tidak bisa berenang mundur.\n",
      "Clownfish bisa berenang mundur.\n"
     ]
    }
   ],
   "source": [
    "for ikan in (sammy,cassy):\n",
    "    ikan.swim_backwards()"
   ]
  },
  {
   "cell_type": "code",
   "execution_count": 10,
   "metadata": {},
   "outputs": [
    {
     "name": "stdout",
     "output_type": "stream",
     "text": [
      "Dokumen1: Tampilkan konten pdf!\n",
      "Dokumen2: Tampilkan konten pdf!\n",
      "Dokumen3: Tampilkan isi kata!\n"
     ]
    }
   ],
   "source": [
    "class Document:\n",
    "    def __init__(self, name):\n",
    "        self.name = name\n",
    "    def show(self):\n",
    "        raise NotImplementedError(\"Subclass harus menerapkan metode abstrak\")\n",
    "class Pdf(Document):\n",
    "    def show(self):\n",
    "        return 'Tampilkan konten pdf!'\n",
    "class Word(Document):\n",
    "    def show(self):\n",
    "        return 'Tampilkan isi kata!'\n",
    "documents = [Pdf('Dokumen1'),Pdf('Dokumen2'),Word('Dokumen3')]\n",
    "for document in documents:\n",
    "    print (document.name + ': ' + document.show())"
   ]
  },
  {
   "cell_type": "code",
   "execution_count": 12,
   "metadata": {},
   "outputs": [
    {
     "name": "stdout",
     "output_type": "stream",
     "text": [
      "Bananatruck: Mengemudi truk lambat karena sarat muatan.\n",
      "Orangetruck: Mengemudi truk lambat karena sarat muatan.\n",
      "Z3: Mengemudi mobil sport!\n"
     ]
    }
   ],
   "source": [
    "class Car:\n",
    "    def __init__(self, name):\n",
    "        self.name = name\n",
    "    def drive(self):\n",
    "        raise NotImplementedError(\"Subclass harus menerapkan metode abstrak\")\n",
    "    def stop(self):\n",
    "        raise NotImplementedError(\"Subclass harus menerapkan metode abstrak\")\n",
    "class Sportscar(Car):\n",
    "    def drive(self):\n",
    "        return 'Mengemudi mobil sport!'\n",
    "    def stop(self):\n",
    "        return 'Pengereman sportscar!'\n",
    "class Truck(Car):\n",
    "    def drive(self):\n",
    "        return 'Mengemudi truk lambat karena sarat muatan.'\n",
    "    def stop(self):\n",
    "        return 'Pengereman truk!'\n",
    "cars = [Truck('Bananatruck'),Truck('Orangetruck'),Sportscar('Z3')]\n",
    "for car in cars:\n",
    "    print (car.name + ': ' + car.drive())"
   ]
  },
  {
   "cell_type": "code",
   "execution_count": null,
   "metadata": {},
   "outputs": [],
   "source": []
  }
 ],
 "metadata": {
  "kernelspec": {
   "display_name": "Python 3",
   "language": "python",
   "name": "python3"
  },
  "language_info": {
   "codemirror_mode": {
    "name": "ipython",
    "version": 3
   },
   "file_extension": ".py",
   "mimetype": "text/x-python",
   "name": "python",
   "nbconvert_exporter": "python",
   "pygments_lexer": "ipython3",
   "version": "3.7.1"
  }
 },
 "nbformat": 4,
 "nbformat_minor": 2
}
